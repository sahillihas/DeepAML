{
 "cells": [
  {
   "cell_type": "markdown",
   "id": "8a3f45c7",
   "metadata": {},
   "source": [
    "# Anti-Money Laundering Pattern Analysis\n",
    "\n",
    "This notebook demonstrates various money laundering patterns and how they can be detected using the DeepAML system."
   ]
  },
  {
   "cell_type": "code",
   "execution_count": 1,
   "id": "99373e75",
   "metadata": {},
   "outputs": [
    {
     "name": "stderr",
     "output_type": "stream",
     "text": [
      "/Users/sahillihas/Documents/Self_Projects/DeepAML/.deepaml_venv/lib/python3.9/site-packages/urllib3/__init__.py:35: NotOpenSSLWarning: urllib3 v2 only supports OpenSSL 1.1.1+, currently the 'ssl' module is compiled with 'LibreSSL 2.8.3'. See: https://github.com/urllib3/urllib3/issues/3020\n",
      "  warnings.warn(\n"
     ]
    }
   ],
   "source": [
    "import sys\n",
    "sys.path.append('../')\n",
    "\n",
    "import pandas as pd\n",
    "import plotly.express as px\n",
    "import plotly.graph_objects as go\n",
    "from src.data_generator import TransactionGenerator\n",
    "from src.visualizations import TransactionVisualizer\n",
    "from src.feature_extractor import FeatureExtractor\n",
    "from src.risk_scorer import RiskScorer"
   ]
  },
  {
   "cell_type": "markdown",
   "id": "62bde0a0",
   "metadata": {},
   "source": [
    "## Generate Sample Data\n",
    "\n",
    "First, let's generate some sample transaction data with known patterns:"
   ]
  },
  {
   "cell_type": "code",
   "execution_count": 2,
   "id": "c469f909",
   "metadata": {},
   "outputs": [
    {
     "ename": "ValueError",
     "evalue": "unconverted data remains when parsing with format \"%Y-%m-%dT%H:%M:%S\": \".878797\", at position 501. You might want to try:\n    - passing `format` if your strings have a consistent format;\n    - passing `format='ISO8601'` if your strings are all ISO8601 but not necessarily in exactly the same format;\n    - passing `format='mixed'`, and the format will be inferred for each element individually. You might want to use `dayfirst` alongside this.",
     "output_type": "error",
     "traceback": [
      "\u001b[0;31m---------------------------------------------------------------------------\u001b[0m",
      "\u001b[0;31mValueError\u001b[0m                                Traceback (most recent call last)",
      "Cell \u001b[0;32mIn[2], line 9\u001b[0m\n\u001b[1;32m      7\u001b[0m \u001b[38;5;66;03m# Convert to DataFrame\u001b[39;00m\n\u001b[1;32m      8\u001b[0m df \u001b[38;5;241m=\u001b[39m pd\u001b[38;5;241m.\u001b[39mDataFrame(transactions)\n\u001b[0;32m----> 9\u001b[0m df[\u001b[38;5;124m'\u001b[39m\u001b[38;5;124mtimestamp\u001b[39m\u001b[38;5;124m'\u001b[39m] \u001b[38;5;241m=\u001b[39m \u001b[43mpd\u001b[49m\u001b[38;5;241;43m.\u001b[39;49m\u001b[43mto_datetime\u001b[49m\u001b[43m(\u001b[49m\u001b[43mdf\u001b[49m\u001b[43m[\u001b[49m\u001b[38;5;124;43m'\u001b[39;49m\u001b[38;5;124;43mtimestamp\u001b[39;49m\u001b[38;5;124;43m'\u001b[39;49m\u001b[43m]\u001b[49m\u001b[43m)\u001b[49m\n\u001b[1;32m     11\u001b[0m \u001b[38;5;28mprint\u001b[39m(\u001b[38;5;124mf\u001b[39m\u001b[38;5;124m\"\u001b[39m\u001b[38;5;124mGenerated \u001b[39m\u001b[38;5;132;01m{\u001b[39;00m\u001b[38;5;28mlen\u001b[39m(transactions)\u001b[38;5;132;01m}\u001b[39;00m\u001b[38;5;124m transactions\u001b[39m\u001b[38;5;124m\"\u001b[39m)\n\u001b[1;32m     12\u001b[0m \u001b[38;5;28mprint\u001b[39m(\u001b[38;5;124mf\u001b[39m\u001b[38;5;124m\"\u001b[39m\u001b[38;5;124mTime range: \u001b[39m\u001b[38;5;132;01m{\u001b[39;00mdf[\u001b[38;5;124m'\u001b[39m\u001b[38;5;124mtimestamp\u001b[39m\u001b[38;5;124m'\u001b[39m]\u001b[38;5;241m.\u001b[39mmin()\u001b[38;5;132;01m}\u001b[39;00m\u001b[38;5;124m to \u001b[39m\u001b[38;5;132;01m{\u001b[39;00mdf[\u001b[38;5;124m'\u001b[39m\u001b[38;5;124mtimestamp\u001b[39m\u001b[38;5;124m'\u001b[39m]\u001b[38;5;241m.\u001b[39mmax()\u001b[38;5;132;01m}\u001b[39;00m\u001b[38;5;124m\"\u001b[39m)\n",
      "File \u001b[0;32m~/Documents/Self_Projects/DeepAML/.deepaml_venv/lib/python3.9/site-packages/pandas/core/tools/datetimes.py:1067\u001b[0m, in \u001b[0;36mto_datetime\u001b[0;34m(arg, errors, dayfirst, yearfirst, utc, format, exact, unit, infer_datetime_format, origin, cache)\u001b[0m\n\u001b[1;32m   1065\u001b[0m         result \u001b[38;5;241m=\u001b[39m arg\u001b[38;5;241m.\u001b[39mmap(cache_array)\n\u001b[1;32m   1066\u001b[0m     \u001b[38;5;28;01melse\u001b[39;00m:\n\u001b[0;32m-> 1067\u001b[0m         values \u001b[38;5;241m=\u001b[39m \u001b[43mconvert_listlike\u001b[49m\u001b[43m(\u001b[49m\u001b[43marg\u001b[49m\u001b[38;5;241;43m.\u001b[39;49m\u001b[43m_values\u001b[49m\u001b[43m,\u001b[49m\u001b[43m \u001b[49m\u001b[38;5;28;43mformat\u001b[39;49m\u001b[43m)\u001b[49m\n\u001b[1;32m   1068\u001b[0m         result \u001b[38;5;241m=\u001b[39m arg\u001b[38;5;241m.\u001b[39m_constructor(values, index\u001b[38;5;241m=\u001b[39marg\u001b[38;5;241m.\u001b[39mindex, name\u001b[38;5;241m=\u001b[39marg\u001b[38;5;241m.\u001b[39mname)\n\u001b[1;32m   1069\u001b[0m \u001b[38;5;28;01melif\u001b[39;00m \u001b[38;5;28misinstance\u001b[39m(arg, (ABCDataFrame, abc\u001b[38;5;241m.\u001b[39mMutableMapping)):\n",
      "File \u001b[0;32m~/Documents/Self_Projects/DeepAML/.deepaml_venv/lib/python3.9/site-packages/pandas/core/tools/datetimes.py:433\u001b[0m, in \u001b[0;36m_convert_listlike_datetimes\u001b[0;34m(arg, format, name, utc, unit, errors, dayfirst, yearfirst, exact)\u001b[0m\n\u001b[1;32m    431\u001b[0m \u001b[38;5;66;03m# `format` could be inferred, or user didn't ask for mixed-format parsing.\u001b[39;00m\n\u001b[1;32m    432\u001b[0m \u001b[38;5;28;01mif\u001b[39;00m \u001b[38;5;28mformat\u001b[39m \u001b[38;5;129;01mis\u001b[39;00m \u001b[38;5;129;01mnot\u001b[39;00m \u001b[38;5;28;01mNone\u001b[39;00m \u001b[38;5;129;01mand\u001b[39;00m \u001b[38;5;28mformat\u001b[39m \u001b[38;5;241m!=\u001b[39m \u001b[38;5;124m\"\u001b[39m\u001b[38;5;124mmixed\u001b[39m\u001b[38;5;124m\"\u001b[39m:\n\u001b[0;32m--> 433\u001b[0m     \u001b[38;5;28;01mreturn\u001b[39;00m \u001b[43m_array_strptime_with_fallback\u001b[49m\u001b[43m(\u001b[49m\u001b[43marg\u001b[49m\u001b[43m,\u001b[49m\u001b[43m \u001b[49m\u001b[43mname\u001b[49m\u001b[43m,\u001b[49m\u001b[43m \u001b[49m\u001b[43mutc\u001b[49m\u001b[43m,\u001b[49m\u001b[43m \u001b[49m\u001b[38;5;28;43mformat\u001b[39;49m\u001b[43m,\u001b[49m\u001b[43m \u001b[49m\u001b[43mexact\u001b[49m\u001b[43m,\u001b[49m\u001b[43m \u001b[49m\u001b[43merrors\u001b[49m\u001b[43m)\u001b[49m\n\u001b[1;32m    435\u001b[0m result, tz_parsed \u001b[38;5;241m=\u001b[39m objects_to_datetime64(\n\u001b[1;32m    436\u001b[0m     arg,\n\u001b[1;32m    437\u001b[0m     dayfirst\u001b[38;5;241m=\u001b[39mdayfirst,\n\u001b[0;32m   (...)\u001b[0m\n\u001b[1;32m    441\u001b[0m     allow_object\u001b[38;5;241m=\u001b[39m\u001b[38;5;28;01mTrue\u001b[39;00m,\n\u001b[1;32m    442\u001b[0m )\n\u001b[1;32m    444\u001b[0m \u001b[38;5;28;01mif\u001b[39;00m tz_parsed \u001b[38;5;129;01mis\u001b[39;00m \u001b[38;5;129;01mnot\u001b[39;00m \u001b[38;5;28;01mNone\u001b[39;00m:\n\u001b[1;32m    445\u001b[0m     \u001b[38;5;66;03m# We can take a shortcut since the datetime64 numpy array\u001b[39;00m\n\u001b[1;32m    446\u001b[0m     \u001b[38;5;66;03m# is in UTC\u001b[39;00m\n",
      "File \u001b[0;32m~/Documents/Self_Projects/DeepAML/.deepaml_venv/lib/python3.9/site-packages/pandas/core/tools/datetimes.py:467\u001b[0m, in \u001b[0;36m_array_strptime_with_fallback\u001b[0;34m(arg, name, utc, fmt, exact, errors)\u001b[0m\n\u001b[1;32m    456\u001b[0m \u001b[38;5;28;01mdef\u001b[39;00m\u001b[38;5;250m \u001b[39m\u001b[38;5;21m_array_strptime_with_fallback\u001b[39m(\n\u001b[1;32m    457\u001b[0m     arg,\n\u001b[1;32m    458\u001b[0m     name,\n\u001b[0;32m   (...)\u001b[0m\n\u001b[1;32m    462\u001b[0m     errors: \u001b[38;5;28mstr\u001b[39m,\n\u001b[1;32m    463\u001b[0m ) \u001b[38;5;241m-\u001b[39m\u001b[38;5;241m>\u001b[39m Index:\n\u001b[1;32m    464\u001b[0m \u001b[38;5;250m    \u001b[39m\u001b[38;5;124;03m\"\"\"\u001b[39;00m\n\u001b[1;32m    465\u001b[0m \u001b[38;5;124;03m    Call array_strptime, with fallback behavior depending on 'errors'.\u001b[39;00m\n\u001b[1;32m    466\u001b[0m \u001b[38;5;124;03m    \"\"\"\u001b[39;00m\n\u001b[0;32m--> 467\u001b[0m     result, tz_out \u001b[38;5;241m=\u001b[39m \u001b[43marray_strptime\u001b[49m\u001b[43m(\u001b[49m\u001b[43marg\u001b[49m\u001b[43m,\u001b[49m\u001b[43m \u001b[49m\u001b[43mfmt\u001b[49m\u001b[43m,\u001b[49m\u001b[43m \u001b[49m\u001b[43mexact\u001b[49m\u001b[38;5;241;43m=\u001b[39;49m\u001b[43mexact\u001b[49m\u001b[43m,\u001b[49m\u001b[43m \u001b[49m\u001b[43merrors\u001b[49m\u001b[38;5;241;43m=\u001b[39;49m\u001b[43merrors\u001b[49m\u001b[43m,\u001b[49m\u001b[43m \u001b[49m\u001b[43mutc\u001b[49m\u001b[38;5;241;43m=\u001b[39;49m\u001b[43mutc\u001b[49m\u001b[43m)\u001b[49m\n\u001b[1;32m    468\u001b[0m     \u001b[38;5;28;01mif\u001b[39;00m tz_out \u001b[38;5;129;01mis\u001b[39;00m \u001b[38;5;129;01mnot\u001b[39;00m \u001b[38;5;28;01mNone\u001b[39;00m:\n\u001b[1;32m    469\u001b[0m         unit \u001b[38;5;241m=\u001b[39m np\u001b[38;5;241m.\u001b[39mdatetime_data(result\u001b[38;5;241m.\u001b[39mdtype)[\u001b[38;5;241m0\u001b[39m]\n",
      "File \u001b[0;32mstrptime.pyx:501\u001b[0m, in \u001b[0;36mpandas._libs.tslibs.strptime.array_strptime\u001b[0;34m()\u001b[0m\n",
      "File \u001b[0;32mstrptime.pyx:451\u001b[0m, in \u001b[0;36mpandas._libs.tslibs.strptime.array_strptime\u001b[0;34m()\u001b[0m\n",
      "File \u001b[0;32mstrptime.pyx:587\u001b[0m, in \u001b[0;36mpandas._libs.tslibs.strptime._parse_with_format\u001b[0;34m()\u001b[0m\n",
      "\u001b[0;31mValueError\u001b[0m: unconverted data remains when parsing with format \"%Y-%m-%dT%H:%M:%S\": \".878797\", at position 501. You might want to try:\n    - passing `format` if your strings have a consistent format;\n    - passing `format='ISO8601'` if your strings are all ISO8601 but not necessarily in exactly the same format;\n    - passing `format='mixed'`, and the format will be inferred for each element individually. You might want to use `dayfirst` alongside this."
     ]
    }
   ],
   "source": [
    "# Initialize generator\n",
    "generator = TransactionGenerator(num_accounts=1000)\n",
    "\n",
    "# Generate dataset\n",
    "transactions = generator.generate_dataset(num_days=90, suspicious_ratio=0.15)\n",
    "\n",
    "# Convert to DataFrame\n",
    "df = pd.DataFrame(transactions)\n",
    "df['timestamp'] = pd.to_datetime(df['timestamp'])\n",
    "\n",
    "print(f\"Generated {len(transactions)} transactions\")\n",
    "print(f\"Time range: {df['timestamp'].min()} to {df['timestamp'].max()}\")"
   ]
  },
  {
   "cell_type": "markdown",
   "id": "f813b64c",
   "metadata": {},
   "source": [
    "## 1. Structuring (Smurfing) Pattern\n",
    "\n",
    "Structuring involves breaking down a large transaction into smaller ones to avoid reporting thresholds."
   ]
  },
  {
   "cell_type": "code",
   "execution_count": 3,
   "id": "213d4450",
   "metadata": {},
   "outputs": [
    {
     "data": {
      "application/vnd.plotly.v1+json": {
       "config": {
        "plotlyServerURL": "https://plot.ly"
       },
       "data": [
        {
         "marker": {
          "color": "#2196F3",
          "size": 10
         },
         "mode": "markers",
         "name": "Transactions",
         "type": "scatter",
         "x": [
          "2024-01-01T00:12:43.000000000",
          "2024-01-01T00:18:31.000000000",
          "2024-01-01T00:31:30.000000000",
          "2024-01-01T01:09:06.000000000",
          "2024-01-01T01:28:00.000000000",
          "2024-01-01T01:31:43.000000000",
          "2024-01-01T01:44:58.000000000",
          "2024-01-01T01:47:34.000000000",
          "2024-01-01T01:57:16.000000000",
          "2024-01-01T02:02:50.000000000"
         ],
         "xaxis": "x",
         "y": {
          "bdata": "16NwPUoRzEBI4XoUrsSZQB+F61HoHNpAZmZmZqamsUDXo3A9CouVQLgehetRooZAZmZmZmbUikD2KFyPwlO2QLgehevRa6RASOF6FC42rEA=",
          "dtype": "f8"
         },
         "yaxis": "y"
        },
        {
         "line": {
          "color": "#ff4444"
         },
         "mode": "lines+markers",
         "name": "Cumulative Amount",
         "type": "scatter",
         "x": [
          "2024-01-01T00:12:43.000000000",
          "2024-01-01T00:18:31.000000000",
          "2024-01-01T00:31:30.000000000",
          "2024-01-01T01:09:06.000000000",
          "2024-01-01T01:28:00.000000000",
          "2024-01-01T01:31:43.000000000",
          "2024-01-01T01:44:58.000000000",
          "2024-01-01T01:47:34.000000000",
          "2024-01-01T01:57:16.000000000",
          "2024-01-01T02:02:50.000000000"
         ],
         "xaxis": "x",
         "y": {
          "bdata": "16NwPUoRzEAAAAAA4EnPQJDC9Sjs4ORAXY/C9cAV50B8FK5HGcLnQPcoXI+iHOhAkcL1KPSH6ECwR+F6bFLrQJyZmZkpmexAsEfheoxc7kA=",
          "dtype": "f8"
         },
         "yaxis": "y2"
        }
       ],
       "layout": {
        "font": {
         "color": "#ffffff"
        },
        "paper_bgcolor": "#1f2630",
        "plot_bgcolor": "#1f2630",
        "template": {
         "data": {
          "bar": [
           {
            "error_x": {
             "color": "#2a3f5f"
            },
            "error_y": {
             "color": "#2a3f5f"
            },
            "marker": {
             "line": {
              "color": "#E5ECF6",
              "width": 0.5
             },
             "pattern": {
              "fillmode": "overlay",
              "size": 10,
              "solidity": 0.2
             }
            },
            "type": "bar"
           }
          ],
          "barpolar": [
           {
            "marker": {
             "line": {
              "color": "#E5ECF6",
              "width": 0.5
             },
             "pattern": {
              "fillmode": "overlay",
              "size": 10,
              "solidity": 0.2
             }
            },
            "type": "barpolar"
           }
          ],
          "carpet": [
           {
            "aaxis": {
             "endlinecolor": "#2a3f5f",
             "gridcolor": "white",
             "linecolor": "white",
             "minorgridcolor": "white",
             "startlinecolor": "#2a3f5f"
            },
            "baxis": {
             "endlinecolor": "#2a3f5f",
             "gridcolor": "white",
             "linecolor": "white",
             "minorgridcolor": "white",
             "startlinecolor": "#2a3f5f"
            },
            "type": "carpet"
           }
          ],
          "choropleth": [
           {
            "colorbar": {
             "outlinewidth": 0,
             "ticks": ""
            },
            "type": "choropleth"
           }
          ],
          "contour": [
           {
            "colorbar": {
             "outlinewidth": 0,
             "ticks": ""
            },
            "colorscale": [
             [
              0,
              "#0d0887"
             ],
             [
              0.1111111111111111,
              "#46039f"
             ],
             [
              0.2222222222222222,
              "#7201a8"
             ],
             [
              0.3333333333333333,
              "#9c179e"
             ],
             [
              0.4444444444444444,
              "#bd3786"
             ],
             [
              0.5555555555555556,
              "#d8576b"
             ],
             [
              0.6666666666666666,
              "#ed7953"
             ],
             [
              0.7777777777777778,
              "#fb9f3a"
             ],
             [
              0.8888888888888888,
              "#fdca26"
             ],
             [
              1,
              "#f0f921"
             ]
            ],
            "type": "contour"
           }
          ],
          "contourcarpet": [
           {
            "colorbar": {
             "outlinewidth": 0,
             "ticks": ""
            },
            "type": "contourcarpet"
           }
          ],
          "heatmap": [
           {
            "colorbar": {
             "outlinewidth": 0,
             "ticks": ""
            },
            "colorscale": [
             [
              0,
              "#0d0887"
             ],
             [
              0.1111111111111111,
              "#46039f"
             ],
             [
              0.2222222222222222,
              "#7201a8"
             ],
             [
              0.3333333333333333,
              "#9c179e"
             ],
             [
              0.4444444444444444,
              "#bd3786"
             ],
             [
              0.5555555555555556,
              "#d8576b"
             ],
             [
              0.6666666666666666,
              "#ed7953"
             ],
             [
              0.7777777777777778,
              "#fb9f3a"
             ],
             [
              0.8888888888888888,
              "#fdca26"
             ],
             [
              1,
              "#f0f921"
             ]
            ],
            "type": "heatmap"
           }
          ],
          "histogram": [
           {
            "marker": {
             "pattern": {
              "fillmode": "overlay",
              "size": 10,
              "solidity": 0.2
             }
            },
            "type": "histogram"
           }
          ],
          "histogram2d": [
           {
            "colorbar": {
             "outlinewidth": 0,
             "ticks": ""
            },
            "colorscale": [
             [
              0,
              "#0d0887"
             ],
             [
              0.1111111111111111,
              "#46039f"
             ],
             [
              0.2222222222222222,
              "#7201a8"
             ],
             [
              0.3333333333333333,
              "#9c179e"
             ],
             [
              0.4444444444444444,
              "#bd3786"
             ],
             [
              0.5555555555555556,
              "#d8576b"
             ],
             [
              0.6666666666666666,
              "#ed7953"
             ],
             [
              0.7777777777777778,
              "#fb9f3a"
             ],
             [
              0.8888888888888888,
              "#fdca26"
             ],
             [
              1,
              "#f0f921"
             ]
            ],
            "type": "histogram2d"
           }
          ],
          "histogram2dcontour": [
           {
            "colorbar": {
             "outlinewidth": 0,
             "ticks": ""
            },
            "colorscale": [
             [
              0,
              "#0d0887"
             ],
             [
              0.1111111111111111,
              "#46039f"
             ],
             [
              0.2222222222222222,
              "#7201a8"
             ],
             [
              0.3333333333333333,
              "#9c179e"
             ],
             [
              0.4444444444444444,
              "#bd3786"
             ],
             [
              0.5555555555555556,
              "#d8576b"
             ],
             [
              0.6666666666666666,
              "#ed7953"
             ],
             [
              0.7777777777777778,
              "#fb9f3a"
             ],
             [
              0.8888888888888888,
              "#fdca26"
             ],
             [
              1,
              "#f0f921"
             ]
            ],
            "type": "histogram2dcontour"
           }
          ],
          "mesh3d": [
           {
            "colorbar": {
             "outlinewidth": 0,
             "ticks": ""
            },
            "type": "mesh3d"
           }
          ],
          "parcoords": [
           {
            "line": {
             "colorbar": {
              "outlinewidth": 0,
              "ticks": ""
             }
            },
            "type": "parcoords"
           }
          ],
          "pie": [
           {
            "automargin": true,
            "type": "pie"
           }
          ],
          "scatter": [
           {
            "fillpattern": {
             "fillmode": "overlay",
             "size": 10,
             "solidity": 0.2
            },
            "type": "scatter"
           }
          ],
          "scatter3d": [
           {
            "line": {
             "colorbar": {
              "outlinewidth": 0,
              "ticks": ""
             }
            },
            "marker": {
             "colorbar": {
              "outlinewidth": 0,
              "ticks": ""
             }
            },
            "type": "scatter3d"
           }
          ],
          "scattercarpet": [
           {
            "marker": {
             "colorbar": {
              "outlinewidth": 0,
              "ticks": ""
             }
            },
            "type": "scattercarpet"
           }
          ],
          "scattergeo": [
           {
            "marker": {
             "colorbar": {
              "outlinewidth": 0,
              "ticks": ""
             }
            },
            "type": "scattergeo"
           }
          ],
          "scattergl": [
           {
            "marker": {
             "colorbar": {
              "outlinewidth": 0,
              "ticks": ""
             }
            },
            "type": "scattergl"
           }
          ],
          "scattermap": [
           {
            "marker": {
             "colorbar": {
              "outlinewidth": 0,
              "ticks": ""
             }
            },
            "type": "scattermap"
           }
          ],
          "scattermapbox": [
           {
            "marker": {
             "colorbar": {
              "outlinewidth": 0,
              "ticks": ""
             }
            },
            "type": "scattermapbox"
           }
          ],
          "scatterpolar": [
           {
            "marker": {
             "colorbar": {
              "outlinewidth": 0,
              "ticks": ""
             }
            },
            "type": "scatterpolar"
           }
          ],
          "scatterpolargl": [
           {
            "marker": {
             "colorbar": {
              "outlinewidth": 0,
              "ticks": ""
             }
            },
            "type": "scatterpolargl"
           }
          ],
          "scatterternary": [
           {
            "marker": {
             "colorbar": {
              "outlinewidth": 0,
              "ticks": ""
             }
            },
            "type": "scatterternary"
           }
          ],
          "surface": [
           {
            "colorbar": {
             "outlinewidth": 0,
             "ticks": ""
            },
            "colorscale": [
             [
              0,
              "#0d0887"
             ],
             [
              0.1111111111111111,
              "#46039f"
             ],
             [
              0.2222222222222222,
              "#7201a8"
             ],
             [
              0.3333333333333333,
              "#9c179e"
             ],
             [
              0.4444444444444444,
              "#bd3786"
             ],
             [
              0.5555555555555556,
              "#d8576b"
             ],
             [
              0.6666666666666666,
              "#ed7953"
             ],
             [
              0.7777777777777778,
              "#fb9f3a"
             ],
             [
              0.8888888888888888,
              "#fdca26"
             ],
             [
              1,
              "#f0f921"
             ]
            ],
            "type": "surface"
           }
          ],
          "table": [
           {
            "cells": {
             "fill": {
              "color": "#EBF0F8"
             },
             "line": {
              "color": "white"
             }
            },
            "header": {
             "fill": {
              "color": "#C8D4E3"
             },
             "line": {
              "color": "white"
             }
            },
            "type": "table"
           }
          ]
         },
         "layout": {
          "annotationdefaults": {
           "arrowcolor": "#2a3f5f",
           "arrowhead": 0,
           "arrowwidth": 1
          },
          "autotypenumbers": "strict",
          "coloraxis": {
           "colorbar": {
            "outlinewidth": 0,
            "ticks": ""
           }
          },
          "colorscale": {
           "diverging": [
            [
             0,
             "#8e0152"
            ],
            [
             0.1,
             "#c51b7d"
            ],
            [
             0.2,
             "#de77ae"
            ],
            [
             0.3,
             "#f1b6da"
            ],
            [
             0.4,
             "#fde0ef"
            ],
            [
             0.5,
             "#f7f7f7"
            ],
            [
             0.6,
             "#e6f5d0"
            ],
            [
             0.7,
             "#b8e186"
            ],
            [
             0.8,
             "#7fbc41"
            ],
            [
             0.9,
             "#4d9221"
            ],
            [
             1,
             "#276419"
            ]
           ],
           "sequential": [
            [
             0,
             "#0d0887"
            ],
            [
             0.1111111111111111,
             "#46039f"
            ],
            [
             0.2222222222222222,
             "#7201a8"
            ],
            [
             0.3333333333333333,
             "#9c179e"
            ],
            [
             0.4444444444444444,
             "#bd3786"
            ],
            [
             0.5555555555555556,
             "#d8576b"
            ],
            [
             0.6666666666666666,
             "#ed7953"
            ],
            [
             0.7777777777777778,
             "#fb9f3a"
            ],
            [
             0.8888888888888888,
             "#fdca26"
            ],
            [
             1,
             "#f0f921"
            ]
           ],
           "sequentialminus": [
            [
             0,
             "#0d0887"
            ],
            [
             0.1111111111111111,
             "#46039f"
            ],
            [
             0.2222222222222222,
             "#7201a8"
            ],
            [
             0.3333333333333333,
             "#9c179e"
            ],
            [
             0.4444444444444444,
             "#bd3786"
            ],
            [
             0.5555555555555556,
             "#d8576b"
            ],
            [
             0.6666666666666666,
             "#ed7953"
            ],
            [
             0.7777777777777778,
             "#fb9f3a"
            ],
            [
             0.8888888888888888,
             "#fdca26"
            ],
            [
             1,
             "#f0f921"
            ]
           ]
          },
          "colorway": [
           "#636efa",
           "#EF553B",
           "#00cc96",
           "#ab63fa",
           "#FFA15A",
           "#19d3f3",
           "#FF6692",
           "#B6E880",
           "#FF97FF",
           "#FECB52"
          ],
          "font": {
           "color": "#2a3f5f"
          },
          "geo": {
           "bgcolor": "white",
           "lakecolor": "white",
           "landcolor": "#E5ECF6",
           "showlakes": true,
           "showland": true,
           "subunitcolor": "white"
          },
          "hoverlabel": {
           "align": "left"
          },
          "hovermode": "closest",
          "mapbox": {
           "style": "light"
          },
          "paper_bgcolor": "white",
          "plot_bgcolor": "#E5ECF6",
          "polar": {
           "angularaxis": {
            "gridcolor": "white",
            "linecolor": "white",
            "ticks": ""
           },
           "bgcolor": "#E5ECF6",
           "radialaxis": {
            "gridcolor": "white",
            "linecolor": "white",
            "ticks": ""
           }
          },
          "scene": {
           "xaxis": {
            "backgroundcolor": "#E5ECF6",
            "gridcolor": "white",
            "gridwidth": 2,
            "linecolor": "white",
            "showbackground": true,
            "ticks": "",
            "zerolinecolor": "white"
           },
           "yaxis": {
            "backgroundcolor": "#E5ECF6",
            "gridcolor": "white",
            "gridwidth": 2,
            "linecolor": "white",
            "showbackground": true,
            "ticks": "",
            "zerolinecolor": "white"
           },
           "zaxis": {
            "backgroundcolor": "#E5ECF6",
            "gridcolor": "white",
            "gridwidth": 2,
            "linecolor": "white",
            "showbackground": true,
            "ticks": "",
            "zerolinecolor": "white"
           }
          },
          "shapedefaults": {
           "line": {
            "color": "#2a3f5f"
           }
          },
          "ternary": {
           "aaxis": {
            "gridcolor": "white",
            "linecolor": "white",
            "ticks": ""
           },
           "baxis": {
            "gridcolor": "white",
            "linecolor": "white",
            "ticks": ""
           },
           "bgcolor": "#E5ECF6",
           "caxis": {
            "gridcolor": "white",
            "linecolor": "white",
            "ticks": ""
           }
          },
          "title": {
           "x": 0.05
          },
          "xaxis": {
           "automargin": true,
           "gridcolor": "white",
           "linecolor": "white",
           "ticks": "",
           "title": {
            "standoff": 15
           },
           "zerolinecolor": "white",
           "zerolinewidth": 2
          },
          "yaxis": {
           "automargin": true,
           "gridcolor": "white",
           "linecolor": "white",
           "ticks": "",
           "title": {
            "standoff": 15
           },
           "zerolinecolor": "white",
           "zerolinewidth": 2
          }
         }
        },
        "title": {
         "text": "Structuring Pattern Analysis"
        },
        "xaxis": {
         "anchor": "y",
         "domain": [
          0,
          0.94
         ]
        },
        "yaxis": {
         "anchor": "x",
         "domain": [
          0,
          1
         ]
        },
        "yaxis2": {
         "anchor": "x",
         "overlaying": "y",
         "side": "right"
        }
       }
      }
     },
     "metadata": {},
     "output_type": "display_data"
    }
   ],
   "source": [
    "visualizer = TransactionVisualizer(dark_mode=True)\n",
    "\n",
    "# Get structuring pattern data\n",
    "pattern_data = {'transactions': transactions[:10]}  # Using first 10 transactions for example\n",
    "fig = visualizer._visualize_structuring(pattern_data['transactions'])\n",
    "fig.show()"
   ]
  },
  {
   "cell_type": "markdown",
   "id": "2f50440c",
   "metadata": {},
   "source": [
    "## 2. Layering Pattern\n",
    "\n",
    "Layering involves moving money through multiple accounts to obscure its origin."
   ]
  },
  {
   "cell_type": "code",
   "execution_count": 4,
   "id": "1da6ed70",
   "metadata": {},
   "outputs": [
    {
     "data": {
      "application/vnd.plotly.v1+json": {
       "config": {
        "plotlyServerURL": "https://plot.ly"
       },
       "data": [
        {
         "link": {
          "color": "#2196F3",
          "label": [
           "14,370.58",
           "1,649.17",
           "26,739.63",
           "4,518.65",
           "1,378.76",
           "724.29",
           "858.55",
           "5,715.76",
           "2,613.91",
           "3,611.09"
          ],
          "source": [
           0,
           1,
           2,
           3,
           4,
           5,
           1,
           6,
           7,
           8
          ],
          "target": [
           9,
           10,
           11,
           12,
           13,
           14,
           15,
           16,
           17,
           18
          ],
          "value": {
           "bdata": "16NwPUoRzEBI4XoUrsSZQB+F61HoHNpAZmZmZqamsUDXo3A9CouVQLgehetRooZAZmZmZmbUikD2KFyPwlO2QLgehevRa6RASOF6FC42rEA=",
           "dtype": "f8"
          }
         },
         "node": {
          "color": "#4CAF50",
          "label": [
           "Entity_000372",
           "Entity_000221",
           "Entity_000254",
           "Entity_000782",
           "Entity_000362",
           "Entity_000985",
           "Entity_000768",
           "Entity_000034",
           "Entity_000121",
           "Entity_000973",
           "Entity_000316",
           "Entity_000399",
           "Entity_000431",
           "Entity_000904",
           "Entity_000237",
           "Entity_000439",
           "Entity_000737",
           "Entity_000724",
           "Entity_000994"
          ],
          "line": {
           "color": "black",
           "width": 0.5
          },
          "pad": 15,
          "thickness": 20
         },
         "type": "sankey"
        }
       ],
       "layout": {
        "font": {
         "color": "#ffffff"
        },
        "paper_bgcolor": "#1f2630",
        "plot_bgcolor": "#1f2630",
        "template": {
         "data": {
          "bar": [
           {
            "error_x": {
             "color": "#2a3f5f"
            },
            "error_y": {
             "color": "#2a3f5f"
            },
            "marker": {
             "line": {
              "color": "#E5ECF6",
              "width": 0.5
             },
             "pattern": {
              "fillmode": "overlay",
              "size": 10,
              "solidity": 0.2
             }
            },
            "type": "bar"
           }
          ],
          "barpolar": [
           {
            "marker": {
             "line": {
              "color": "#E5ECF6",
              "width": 0.5
             },
             "pattern": {
              "fillmode": "overlay",
              "size": 10,
              "solidity": 0.2
             }
            },
            "type": "barpolar"
           }
          ],
          "carpet": [
           {
            "aaxis": {
             "endlinecolor": "#2a3f5f",
             "gridcolor": "white",
             "linecolor": "white",
             "minorgridcolor": "white",
             "startlinecolor": "#2a3f5f"
            },
            "baxis": {
             "endlinecolor": "#2a3f5f",
             "gridcolor": "white",
             "linecolor": "white",
             "minorgridcolor": "white",
             "startlinecolor": "#2a3f5f"
            },
            "type": "carpet"
           }
          ],
          "choropleth": [
           {
            "colorbar": {
             "outlinewidth": 0,
             "ticks": ""
            },
            "type": "choropleth"
           }
          ],
          "contour": [
           {
            "colorbar": {
             "outlinewidth": 0,
             "ticks": ""
            },
            "colorscale": [
             [
              0,
              "#0d0887"
             ],
             [
              0.1111111111111111,
              "#46039f"
             ],
             [
              0.2222222222222222,
              "#7201a8"
             ],
             [
              0.3333333333333333,
              "#9c179e"
             ],
             [
              0.4444444444444444,
              "#bd3786"
             ],
             [
              0.5555555555555556,
              "#d8576b"
             ],
             [
              0.6666666666666666,
              "#ed7953"
             ],
             [
              0.7777777777777778,
              "#fb9f3a"
             ],
             [
              0.8888888888888888,
              "#fdca26"
             ],
             [
              1,
              "#f0f921"
             ]
            ],
            "type": "contour"
           }
          ],
          "contourcarpet": [
           {
            "colorbar": {
             "outlinewidth": 0,
             "ticks": ""
            },
            "type": "contourcarpet"
           }
          ],
          "heatmap": [
           {
            "colorbar": {
             "outlinewidth": 0,
             "ticks": ""
            },
            "colorscale": [
             [
              0,
              "#0d0887"
             ],
             [
              0.1111111111111111,
              "#46039f"
             ],
             [
              0.2222222222222222,
              "#7201a8"
             ],
             [
              0.3333333333333333,
              "#9c179e"
             ],
             [
              0.4444444444444444,
              "#bd3786"
             ],
             [
              0.5555555555555556,
              "#d8576b"
             ],
             [
              0.6666666666666666,
              "#ed7953"
             ],
             [
              0.7777777777777778,
              "#fb9f3a"
             ],
             [
              0.8888888888888888,
              "#fdca26"
             ],
             [
              1,
              "#f0f921"
             ]
            ],
            "type": "heatmap"
           }
          ],
          "histogram": [
           {
            "marker": {
             "pattern": {
              "fillmode": "overlay",
              "size": 10,
              "solidity": 0.2
             }
            },
            "type": "histogram"
           }
          ],
          "histogram2d": [
           {
            "colorbar": {
             "outlinewidth": 0,
             "ticks": ""
            },
            "colorscale": [
             [
              0,
              "#0d0887"
             ],
             [
              0.1111111111111111,
              "#46039f"
             ],
             [
              0.2222222222222222,
              "#7201a8"
             ],
             [
              0.3333333333333333,
              "#9c179e"
             ],
             [
              0.4444444444444444,
              "#bd3786"
             ],
             [
              0.5555555555555556,
              "#d8576b"
             ],
             [
              0.6666666666666666,
              "#ed7953"
             ],
             [
              0.7777777777777778,
              "#fb9f3a"
             ],
             [
              0.8888888888888888,
              "#fdca26"
             ],
             [
              1,
              "#f0f921"
             ]
            ],
            "type": "histogram2d"
           }
          ],
          "histogram2dcontour": [
           {
            "colorbar": {
             "outlinewidth": 0,
             "ticks": ""
            },
            "colorscale": [
             [
              0,
              "#0d0887"
             ],
             [
              0.1111111111111111,
              "#46039f"
             ],
             [
              0.2222222222222222,
              "#7201a8"
             ],
             [
              0.3333333333333333,
              "#9c179e"
             ],
             [
              0.4444444444444444,
              "#bd3786"
             ],
             [
              0.5555555555555556,
              "#d8576b"
             ],
             [
              0.6666666666666666,
              "#ed7953"
             ],
             [
              0.7777777777777778,
              "#fb9f3a"
             ],
             [
              0.8888888888888888,
              "#fdca26"
             ],
             [
              1,
              "#f0f921"
             ]
            ],
            "type": "histogram2dcontour"
           }
          ],
          "mesh3d": [
           {
            "colorbar": {
             "outlinewidth": 0,
             "ticks": ""
            },
            "type": "mesh3d"
           }
          ],
          "parcoords": [
           {
            "line": {
             "colorbar": {
              "outlinewidth": 0,
              "ticks": ""
             }
            },
            "type": "parcoords"
           }
          ],
          "pie": [
           {
            "automargin": true,
            "type": "pie"
           }
          ],
          "scatter": [
           {
            "fillpattern": {
             "fillmode": "overlay",
             "size": 10,
             "solidity": 0.2
            },
            "type": "scatter"
           }
          ],
          "scatter3d": [
           {
            "line": {
             "colorbar": {
              "outlinewidth": 0,
              "ticks": ""
             }
            },
            "marker": {
             "colorbar": {
              "outlinewidth": 0,
              "ticks": ""
             }
            },
            "type": "scatter3d"
           }
          ],
          "scattercarpet": [
           {
            "marker": {
             "colorbar": {
              "outlinewidth": 0,
              "ticks": ""
             }
            },
            "type": "scattercarpet"
           }
          ],
          "scattergeo": [
           {
            "marker": {
             "colorbar": {
              "outlinewidth": 0,
              "ticks": ""
             }
            },
            "type": "scattergeo"
           }
          ],
          "scattergl": [
           {
            "marker": {
             "colorbar": {
              "outlinewidth": 0,
              "ticks": ""
             }
            },
            "type": "scattergl"
           }
          ],
          "scattermap": [
           {
            "marker": {
             "colorbar": {
              "outlinewidth": 0,
              "ticks": ""
             }
            },
            "type": "scattermap"
           }
          ],
          "scattermapbox": [
           {
            "marker": {
             "colorbar": {
              "outlinewidth": 0,
              "ticks": ""
             }
            },
            "type": "scattermapbox"
           }
          ],
          "scatterpolar": [
           {
            "marker": {
             "colorbar": {
              "outlinewidth": 0,
              "ticks": ""
             }
            },
            "type": "scatterpolar"
           }
          ],
          "scatterpolargl": [
           {
            "marker": {
             "colorbar": {
              "outlinewidth": 0,
              "ticks": ""
             }
            },
            "type": "scatterpolargl"
           }
          ],
          "scatterternary": [
           {
            "marker": {
             "colorbar": {
              "outlinewidth": 0,
              "ticks": ""
             }
            },
            "type": "scatterternary"
           }
          ],
          "surface": [
           {
            "colorbar": {
             "outlinewidth": 0,
             "ticks": ""
            },
            "colorscale": [
             [
              0,
              "#0d0887"
             ],
             [
              0.1111111111111111,
              "#46039f"
             ],
             [
              0.2222222222222222,
              "#7201a8"
             ],
             [
              0.3333333333333333,
              "#9c179e"
             ],
             [
              0.4444444444444444,
              "#bd3786"
             ],
             [
              0.5555555555555556,
              "#d8576b"
             ],
             [
              0.6666666666666666,
              "#ed7953"
             ],
             [
              0.7777777777777778,
              "#fb9f3a"
             ],
             [
              0.8888888888888888,
              "#fdca26"
             ],
             [
              1,
              "#f0f921"
             ]
            ],
            "type": "surface"
           }
          ],
          "table": [
           {
            "cells": {
             "fill": {
              "color": "#EBF0F8"
             },
             "line": {
              "color": "white"
             }
            },
            "header": {
             "fill": {
              "color": "#C8D4E3"
             },
             "line": {
              "color": "white"
             }
            },
            "type": "table"
           }
          ]
         },
         "layout": {
          "annotationdefaults": {
           "arrowcolor": "#2a3f5f",
           "arrowhead": 0,
           "arrowwidth": 1
          },
          "autotypenumbers": "strict",
          "coloraxis": {
           "colorbar": {
            "outlinewidth": 0,
            "ticks": ""
           }
          },
          "colorscale": {
           "diverging": [
            [
             0,
             "#8e0152"
            ],
            [
             0.1,
             "#c51b7d"
            ],
            [
             0.2,
             "#de77ae"
            ],
            [
             0.3,
             "#f1b6da"
            ],
            [
             0.4,
             "#fde0ef"
            ],
            [
             0.5,
             "#f7f7f7"
            ],
            [
             0.6,
             "#e6f5d0"
            ],
            [
             0.7,
             "#b8e186"
            ],
            [
             0.8,
             "#7fbc41"
            ],
            [
             0.9,
             "#4d9221"
            ],
            [
             1,
             "#276419"
            ]
           ],
           "sequential": [
            [
             0,
             "#0d0887"
            ],
            [
             0.1111111111111111,
             "#46039f"
            ],
            [
             0.2222222222222222,
             "#7201a8"
            ],
            [
             0.3333333333333333,
             "#9c179e"
            ],
            [
             0.4444444444444444,
             "#bd3786"
            ],
            [
             0.5555555555555556,
             "#d8576b"
            ],
            [
             0.6666666666666666,
             "#ed7953"
            ],
            [
             0.7777777777777778,
             "#fb9f3a"
            ],
            [
             0.8888888888888888,
             "#fdca26"
            ],
            [
             1,
             "#f0f921"
            ]
           ],
           "sequentialminus": [
            [
             0,
             "#0d0887"
            ],
            [
             0.1111111111111111,
             "#46039f"
            ],
            [
             0.2222222222222222,
             "#7201a8"
            ],
            [
             0.3333333333333333,
             "#9c179e"
            ],
            [
             0.4444444444444444,
             "#bd3786"
            ],
            [
             0.5555555555555556,
             "#d8576b"
            ],
            [
             0.6666666666666666,
             "#ed7953"
            ],
            [
             0.7777777777777778,
             "#fb9f3a"
            ],
            [
             0.8888888888888888,
             "#fdca26"
            ],
            [
             1,
             "#f0f921"
            ]
           ]
          },
          "colorway": [
           "#636efa",
           "#EF553B",
           "#00cc96",
           "#ab63fa",
           "#FFA15A",
           "#19d3f3",
           "#FF6692",
           "#B6E880",
           "#FF97FF",
           "#FECB52"
          ],
          "font": {
           "color": "#2a3f5f"
          },
          "geo": {
           "bgcolor": "white",
           "lakecolor": "white",
           "landcolor": "#E5ECF6",
           "showlakes": true,
           "showland": true,
           "subunitcolor": "white"
          },
          "hoverlabel": {
           "align": "left"
          },
          "hovermode": "closest",
          "mapbox": {
           "style": "light"
          },
          "paper_bgcolor": "white",
          "plot_bgcolor": "#E5ECF6",
          "polar": {
           "angularaxis": {
            "gridcolor": "white",
            "linecolor": "white",
            "ticks": ""
           },
           "bgcolor": "#E5ECF6",
           "radialaxis": {
            "gridcolor": "white",
            "linecolor": "white",
            "ticks": ""
           }
          },
          "scene": {
           "xaxis": {
            "backgroundcolor": "#E5ECF6",
            "gridcolor": "white",
            "gridwidth": 2,
            "linecolor": "white",
            "showbackground": true,
            "ticks": "",
            "zerolinecolor": "white"
           },
           "yaxis": {
            "backgroundcolor": "#E5ECF6",
            "gridcolor": "white",
            "gridwidth": 2,
            "linecolor": "white",
            "showbackground": true,
            "ticks": "",
            "zerolinecolor": "white"
           },
           "zaxis": {
            "backgroundcolor": "#E5ECF6",
            "gridcolor": "white",
            "gridwidth": 2,
            "linecolor": "white",
            "showbackground": true,
            "ticks": "",
            "zerolinecolor": "white"
           }
          },
          "shapedefaults": {
           "line": {
            "color": "#2a3f5f"
           }
          },
          "ternary": {
           "aaxis": {
            "gridcolor": "white",
            "linecolor": "white",
            "ticks": ""
           },
           "baxis": {
            "gridcolor": "white",
            "linecolor": "white",
            "ticks": ""
           },
           "bgcolor": "#E5ECF6",
           "caxis": {
            "gridcolor": "white",
            "linecolor": "white",
            "ticks": ""
           }
          },
          "title": {
           "x": 0.05
          },
          "xaxis": {
           "automargin": true,
           "gridcolor": "white",
           "linecolor": "white",
           "ticks": "",
           "title": {
            "standoff": 15
           },
           "zerolinecolor": "white",
           "zerolinewidth": 2
          },
          "yaxis": {
           "automargin": true,
           "gridcolor": "white",
           "linecolor": "white",
           "ticks": "",
           "title": {
            "standoff": 15
           },
           "zerolinecolor": "white",
           "zerolinewidth": 2
          }
         }
        },
        "title": {
         "text": "Transaction Layering Flow"
        }
       }
      }
     },
     "metadata": {},
     "output_type": "display_data"
    }
   ],
   "source": [
    "# Visualize layering pattern\n",
    "fig = visualizer._visualize_layering(pattern_data['transactions'])\n",
    "fig.show()"
   ]
  },
  {
   "cell_type": "markdown",
   "id": "d149d58c",
   "metadata": {},
   "source": [
    "## 3. Round-Tripping Pattern\n",
    "\n",
    "Round-tripping involves moving money in a circle through multiple accounts."
   ]
  },
  {
   "cell_type": "code",
   "execution_count": 5,
   "id": "82eede6c",
   "metadata": {},
   "outputs": [
    {
     "data": {
      "application/vnd.plotly.v1+json": {
       "config": {
        "plotlyServerURL": "https://plot.ly"
       },
       "data": [
        {
         "hoverinfo": "text",
         "line": {
          "color": "#2196F3",
          "width": 0.5
         },
         "mode": "lines+markers",
         "name": "Transactions",
         "text": [
          "Amount: 14,370.58\nTime: 2024-01-01T00:12:43",
          "Amount: 1,649.17\nTime: 2024-01-01T00:18:31",
          "Amount: 858.55\nTime: 2024-01-01T01:44:58",
          "Amount: 26,739.63\nTime: 2024-01-01T00:31:30",
          "Amount: 4,518.65\nTime: 2024-01-01T01:09:06",
          "Amount: 1,378.76\nTime: 2024-01-01T01:28:00",
          "Amount: 724.29\nTime: 2024-01-01T01:31:43",
          "Amount: 5,715.76\nTime: 2024-01-01T01:47:34",
          "Amount: 2,613.91\nTime: 2024-01-01T01:57:16",
          "Amount: 3,611.09\nTime: 2024-01-01T02:02:50"
         ],
         "type": "scatter",
         "x": [
          1,
          0.9458172311970898,
          null,
          0.7891405188418465,
          0.5469481270821932,
          null,
          0.7891405188418465,
          -0.6772816470580637,
          null,
          0.24548548648285295,
          -0.08257934828866914,
          null,
          -0.4016954246612751,
          -0.6772815874534178,
          null,
          -0.8794737782513022,
          -0.9863613590597714,
          null,
          -0.9863613590597714,
          -0.8794737782513022,
          null,
          -0.4016952756496606,
          -0.08257940789331494,
          null,
          0.24548566529679036,
          0.5469480674775474,
          null,
          0.7891406380511382,
          0.9458172311970898,
          null
         ],
         "y": [
          -1.254834648501216e-8,
          0.3246994545141239,
          null,
          0.6142126898331699,
          0.8371664900667282,
          null,
          0.6142126898331699,
          -0.7357238783537756,
          null,
          0.9694002908521627,
          0.9965844796871344,
          null,
          0.9157733353713731,
          0.7357239128617284,
          null,
          0.4759474055318793,
          0.16459461075779752,
          null,
          -0.1645945762498447,
          -0.4759473710239264,
          null,
          -0.9157734200727118,
          -0.9965845047838273,
          null,
          -0.9694002563442099,
          -0.8371665151634211,
          null,
          -0.6142125957205712,
          -0.3246995392154627,
          null
         ]
        },
        {
         "hoverinfo": "text",
         "marker": {
          "color": "#4CAF50",
          "size": 20
         },
         "mode": "markers+text",
         "name": "Accounts",
         "text": [
          "Account: ACC000372",
          "Account: ACC000973",
          "Account: ACC000221",
          "Account: ACC000316",
          "Account: ACC000254",
          "Account: ACC000399",
          "Account: ACC000782",
          "Account: ACC000431",
          "Account: ACC000362",
          "Account: ACC000904",
          "Account: ACC000985",
          "Account: ACC000237",
          "Account: ACC000439",
          "Account: ACC000768",
          "Account: ACC000737",
          "Account: ACC000034",
          "Account: ACC000724",
          "Account: ACC000121",
          "Account: ACC000994"
         ],
         "type": "scatter",
         "x": [
          1,
          0.9458172311970898,
          0.7891405188418465,
          0.5469481270821932,
          0.24548548648285295,
          -0.08257934828866914,
          -0.4016954246612751,
          -0.6772815874534178,
          -0.8794737782513022,
          -0.9863613590597714,
          -0.9863613590597714,
          -0.8794737782513022,
          -0.6772816470580637,
          -0.4016952756496606,
          -0.08257940789331494,
          0.24548566529679036,
          0.5469480674775474,
          0.7891406380511382,
          0.9458172311970898
         ],
         "y": [
          -1.254834648501216e-8,
          0.3246994545141239,
          0.6142126898331699,
          0.8371664900667282,
          0.9694002908521627,
          0.9965844796871344,
          0.9157733353713731,
          0.7357239128617284,
          0.4759474055318793,
          0.16459461075779752,
          -0.1645945762498447,
          -0.4759473710239264,
          -0.7357238783537756,
          -0.9157734200727118,
          -0.9965845047838273,
          -0.9694002563442099,
          -0.8371665151634211,
          -0.6142125957205712,
          -0.3246995392154627
         ]
        }
       ],
       "layout": {
        "font": {
         "color": "#ffffff"
        },
        "paper_bgcolor": "#1f2630",
        "plot_bgcolor": "#1f2630",
        "showlegend": true,
        "template": {
         "data": {
          "bar": [
           {
            "error_x": {
             "color": "#2a3f5f"
            },
            "error_y": {
             "color": "#2a3f5f"
            },
            "marker": {
             "line": {
              "color": "#E5ECF6",
              "width": 0.5
             },
             "pattern": {
              "fillmode": "overlay",
              "size": 10,
              "solidity": 0.2
             }
            },
            "type": "bar"
           }
          ],
          "barpolar": [
           {
            "marker": {
             "line": {
              "color": "#E5ECF6",
              "width": 0.5
             },
             "pattern": {
              "fillmode": "overlay",
              "size": 10,
              "solidity": 0.2
             }
            },
            "type": "barpolar"
           }
          ],
          "carpet": [
           {
            "aaxis": {
             "endlinecolor": "#2a3f5f",
             "gridcolor": "white",
             "linecolor": "white",
             "minorgridcolor": "white",
             "startlinecolor": "#2a3f5f"
            },
            "baxis": {
             "endlinecolor": "#2a3f5f",
             "gridcolor": "white",
             "linecolor": "white",
             "minorgridcolor": "white",
             "startlinecolor": "#2a3f5f"
            },
            "type": "carpet"
           }
          ],
          "choropleth": [
           {
            "colorbar": {
             "outlinewidth": 0,
             "ticks": ""
            },
            "type": "choropleth"
           }
          ],
          "contour": [
           {
            "colorbar": {
             "outlinewidth": 0,
             "ticks": ""
            },
            "colorscale": [
             [
              0,
              "#0d0887"
             ],
             [
              0.1111111111111111,
              "#46039f"
             ],
             [
              0.2222222222222222,
              "#7201a8"
             ],
             [
              0.3333333333333333,
              "#9c179e"
             ],
             [
              0.4444444444444444,
              "#bd3786"
             ],
             [
              0.5555555555555556,
              "#d8576b"
             ],
             [
              0.6666666666666666,
              "#ed7953"
             ],
             [
              0.7777777777777778,
              "#fb9f3a"
             ],
             [
              0.8888888888888888,
              "#fdca26"
             ],
             [
              1,
              "#f0f921"
             ]
            ],
            "type": "contour"
           }
          ],
          "contourcarpet": [
           {
            "colorbar": {
             "outlinewidth": 0,
             "ticks": ""
            },
            "type": "contourcarpet"
           }
          ],
          "heatmap": [
           {
            "colorbar": {
             "outlinewidth": 0,
             "ticks": ""
            },
            "colorscale": [
             [
              0,
              "#0d0887"
             ],
             [
              0.1111111111111111,
              "#46039f"
             ],
             [
              0.2222222222222222,
              "#7201a8"
             ],
             [
              0.3333333333333333,
              "#9c179e"
             ],
             [
              0.4444444444444444,
              "#bd3786"
             ],
             [
              0.5555555555555556,
              "#d8576b"
             ],
             [
              0.6666666666666666,
              "#ed7953"
             ],
             [
              0.7777777777777778,
              "#fb9f3a"
             ],
             [
              0.8888888888888888,
              "#fdca26"
             ],
             [
              1,
              "#f0f921"
             ]
            ],
            "type": "heatmap"
           }
          ],
          "histogram": [
           {
            "marker": {
             "pattern": {
              "fillmode": "overlay",
              "size": 10,
              "solidity": 0.2
             }
            },
            "type": "histogram"
           }
          ],
          "histogram2d": [
           {
            "colorbar": {
             "outlinewidth": 0,
             "ticks": ""
            },
            "colorscale": [
             [
              0,
              "#0d0887"
             ],
             [
              0.1111111111111111,
              "#46039f"
             ],
             [
              0.2222222222222222,
              "#7201a8"
             ],
             [
              0.3333333333333333,
              "#9c179e"
             ],
             [
              0.4444444444444444,
              "#bd3786"
             ],
             [
              0.5555555555555556,
              "#d8576b"
             ],
             [
              0.6666666666666666,
              "#ed7953"
             ],
             [
              0.7777777777777778,
              "#fb9f3a"
             ],
             [
              0.8888888888888888,
              "#fdca26"
             ],
             [
              1,
              "#f0f921"
             ]
            ],
            "type": "histogram2d"
           }
          ],
          "histogram2dcontour": [
           {
            "colorbar": {
             "outlinewidth": 0,
             "ticks": ""
            },
            "colorscale": [
             [
              0,
              "#0d0887"
             ],
             [
              0.1111111111111111,
              "#46039f"
             ],
             [
              0.2222222222222222,
              "#7201a8"
             ],
             [
              0.3333333333333333,
              "#9c179e"
             ],
             [
              0.4444444444444444,
              "#bd3786"
             ],
             [
              0.5555555555555556,
              "#d8576b"
             ],
             [
              0.6666666666666666,
              "#ed7953"
             ],
             [
              0.7777777777777778,
              "#fb9f3a"
             ],
             [
              0.8888888888888888,
              "#fdca26"
             ],
             [
              1,
              "#f0f921"
             ]
            ],
            "type": "histogram2dcontour"
           }
          ],
          "mesh3d": [
           {
            "colorbar": {
             "outlinewidth": 0,
             "ticks": ""
            },
            "type": "mesh3d"
           }
          ],
          "parcoords": [
           {
            "line": {
             "colorbar": {
              "outlinewidth": 0,
              "ticks": ""
             }
            },
            "type": "parcoords"
           }
          ],
          "pie": [
           {
            "automargin": true,
            "type": "pie"
           }
          ],
          "scatter": [
           {
            "fillpattern": {
             "fillmode": "overlay",
             "size": 10,
             "solidity": 0.2
            },
            "type": "scatter"
           }
          ],
          "scatter3d": [
           {
            "line": {
             "colorbar": {
              "outlinewidth": 0,
              "ticks": ""
             }
            },
            "marker": {
             "colorbar": {
              "outlinewidth": 0,
              "ticks": ""
             }
            },
            "type": "scatter3d"
           }
          ],
          "scattercarpet": [
           {
            "marker": {
             "colorbar": {
              "outlinewidth": 0,
              "ticks": ""
             }
            },
            "type": "scattercarpet"
           }
          ],
          "scattergeo": [
           {
            "marker": {
             "colorbar": {
              "outlinewidth": 0,
              "ticks": ""
             }
            },
            "type": "scattergeo"
           }
          ],
          "scattergl": [
           {
            "marker": {
             "colorbar": {
              "outlinewidth": 0,
              "ticks": ""
             }
            },
            "type": "scattergl"
           }
          ],
          "scattermap": [
           {
            "marker": {
             "colorbar": {
              "outlinewidth": 0,
              "ticks": ""
             }
            },
            "type": "scattermap"
           }
          ],
          "scattermapbox": [
           {
            "marker": {
             "colorbar": {
              "outlinewidth": 0,
              "ticks": ""
             }
            },
            "type": "scattermapbox"
           }
          ],
          "scatterpolar": [
           {
            "marker": {
             "colorbar": {
              "outlinewidth": 0,
              "ticks": ""
             }
            },
            "type": "scatterpolar"
           }
          ],
          "scatterpolargl": [
           {
            "marker": {
             "colorbar": {
              "outlinewidth": 0,
              "ticks": ""
             }
            },
            "type": "scatterpolargl"
           }
          ],
          "scatterternary": [
           {
            "marker": {
             "colorbar": {
              "outlinewidth": 0,
              "ticks": ""
             }
            },
            "type": "scatterternary"
           }
          ],
          "surface": [
           {
            "colorbar": {
             "outlinewidth": 0,
             "ticks": ""
            },
            "colorscale": [
             [
              0,
              "#0d0887"
             ],
             [
              0.1111111111111111,
              "#46039f"
             ],
             [
              0.2222222222222222,
              "#7201a8"
             ],
             [
              0.3333333333333333,
              "#9c179e"
             ],
             [
              0.4444444444444444,
              "#bd3786"
             ],
             [
              0.5555555555555556,
              "#d8576b"
             ],
             [
              0.6666666666666666,
              "#ed7953"
             ],
             [
              0.7777777777777778,
              "#fb9f3a"
             ],
             [
              0.8888888888888888,
              "#fdca26"
             ],
             [
              1,
              "#f0f921"
             ]
            ],
            "type": "surface"
           }
          ],
          "table": [
           {
            "cells": {
             "fill": {
              "color": "#EBF0F8"
             },
             "line": {
              "color": "white"
             }
            },
            "header": {
             "fill": {
              "color": "#C8D4E3"
             },
             "line": {
              "color": "white"
             }
            },
            "type": "table"
           }
          ]
         },
         "layout": {
          "annotationdefaults": {
           "arrowcolor": "#2a3f5f",
           "arrowhead": 0,
           "arrowwidth": 1
          },
          "autotypenumbers": "strict",
          "coloraxis": {
           "colorbar": {
            "outlinewidth": 0,
            "ticks": ""
           }
          },
          "colorscale": {
           "diverging": [
            [
             0,
             "#8e0152"
            ],
            [
             0.1,
             "#c51b7d"
            ],
            [
             0.2,
             "#de77ae"
            ],
            [
             0.3,
             "#f1b6da"
            ],
            [
             0.4,
             "#fde0ef"
            ],
            [
             0.5,
             "#f7f7f7"
            ],
            [
             0.6,
             "#e6f5d0"
            ],
            [
             0.7,
             "#b8e186"
            ],
            [
             0.8,
             "#7fbc41"
            ],
            [
             0.9,
             "#4d9221"
            ],
            [
             1,
             "#276419"
            ]
           ],
           "sequential": [
            [
             0,
             "#0d0887"
            ],
            [
             0.1111111111111111,
             "#46039f"
            ],
            [
             0.2222222222222222,
             "#7201a8"
            ],
            [
             0.3333333333333333,
             "#9c179e"
            ],
            [
             0.4444444444444444,
             "#bd3786"
            ],
            [
             0.5555555555555556,
             "#d8576b"
            ],
            [
             0.6666666666666666,
             "#ed7953"
            ],
            [
             0.7777777777777778,
             "#fb9f3a"
            ],
            [
             0.8888888888888888,
             "#fdca26"
            ],
            [
             1,
             "#f0f921"
            ]
           ],
           "sequentialminus": [
            [
             0,
             "#0d0887"
            ],
            [
             0.1111111111111111,
             "#46039f"
            ],
            [
             0.2222222222222222,
             "#7201a8"
            ],
            [
             0.3333333333333333,
             "#9c179e"
            ],
            [
             0.4444444444444444,
             "#bd3786"
            ],
            [
             0.5555555555555556,
             "#d8576b"
            ],
            [
             0.6666666666666666,
             "#ed7953"
            ],
            [
             0.7777777777777778,
             "#fb9f3a"
            ],
            [
             0.8888888888888888,
             "#fdca26"
            ],
            [
             1,
             "#f0f921"
            ]
           ]
          },
          "colorway": [
           "#636efa",
           "#EF553B",
           "#00cc96",
           "#ab63fa",
           "#FFA15A",
           "#19d3f3",
           "#FF6692",
           "#B6E880",
           "#FF97FF",
           "#FECB52"
          ],
          "font": {
           "color": "#2a3f5f"
          },
          "geo": {
           "bgcolor": "white",
           "lakecolor": "white",
           "landcolor": "#E5ECF6",
           "showlakes": true,
           "showland": true,
           "subunitcolor": "white"
          },
          "hoverlabel": {
           "align": "left"
          },
          "hovermode": "closest",
          "mapbox": {
           "style": "light"
          },
          "paper_bgcolor": "white",
          "plot_bgcolor": "#E5ECF6",
          "polar": {
           "angularaxis": {
            "gridcolor": "white",
            "linecolor": "white",
            "ticks": ""
           },
           "bgcolor": "#E5ECF6",
           "radialaxis": {
            "gridcolor": "white",
            "linecolor": "white",
            "ticks": ""
           }
          },
          "scene": {
           "xaxis": {
            "backgroundcolor": "#E5ECF6",
            "gridcolor": "white",
            "gridwidth": 2,
            "linecolor": "white",
            "showbackground": true,
            "ticks": "",
            "zerolinecolor": "white"
           },
           "yaxis": {
            "backgroundcolor": "#E5ECF6",
            "gridcolor": "white",
            "gridwidth": 2,
            "linecolor": "white",
            "showbackground": true,
            "ticks": "",
            "zerolinecolor": "white"
           },
           "zaxis": {
            "backgroundcolor": "#E5ECF6",
            "gridcolor": "white",
            "gridwidth": 2,
            "linecolor": "white",
            "showbackground": true,
            "ticks": "",
            "zerolinecolor": "white"
           }
          },
          "shapedefaults": {
           "line": {
            "color": "#2a3f5f"
           }
          },
          "ternary": {
           "aaxis": {
            "gridcolor": "white",
            "linecolor": "white",
            "ticks": ""
           },
           "baxis": {
            "gridcolor": "white",
            "linecolor": "white",
            "ticks": ""
           },
           "bgcolor": "#E5ECF6",
           "caxis": {
            "gridcolor": "white",
            "linecolor": "white",
            "ticks": ""
           }
          },
          "title": {
           "x": 0.05
          },
          "xaxis": {
           "automargin": true,
           "gridcolor": "white",
           "linecolor": "white",
           "ticks": "",
           "title": {
            "standoff": 15
           },
           "zerolinecolor": "white",
           "zerolinewidth": 2
          },
          "yaxis": {
           "automargin": true,
           "gridcolor": "white",
           "linecolor": "white",
           "ticks": "",
           "title": {
            "standoff": 15
           },
           "zerolinecolor": "white",
           "zerolinewidth": 2
          }
         }
        },
        "title": {
         "text": "Round-Tripping Pattern"
        },
        "xaxis": {
         "showgrid": false,
         "showticklabels": false,
         "zeroline": false
        },
        "yaxis": {
         "showgrid": false,
         "showticklabels": false,
         "zeroline": false
        }
       }
      }
     },
     "metadata": {},
     "output_type": "display_data"
    }
   ],
   "source": [
    "# Visualize round-tripping pattern\n",
    "fig = visualizer._visualize_round_tripping(pattern_data['transactions'])\n",
    "fig.show()"
   ]
  },
  {
   "cell_type": "markdown",
   "id": "d7f82821",
   "metadata": {},
   "source": [
    "## 4. Transaction Network Analysis\n",
    "\n",
    "Let's analyze the complete transaction network:"
   ]
  },
  {
   "cell_type": "code",
   "execution_count": 6,
   "id": "b4778f13",
   "metadata": {},
   "outputs": [
    {
     "ename": "FileNotFoundError",
     "evalue": "[Errno 2] No such file or directory: ''",
     "output_type": "error",
     "traceback": [
      "\u001b[0;31m---------------------------------------------------------------------------\u001b[0m",
      "\u001b[0;31mFileNotFoundError\u001b[0m                         Traceback (most recent call last)",
      "Cell \u001b[0;32mIn[6], line 2\u001b[0m\n\u001b[1;32m      1\u001b[0m \u001b[38;5;66;03m# Create and display network graph\u001b[39;00m\n\u001b[0;32m----> 2\u001b[0m G \u001b[38;5;241m=\u001b[39m \u001b[43mvisualizer\u001b[49m\u001b[38;5;241;43m.\u001b[39;49m\u001b[43mcreate_transaction_network\u001b[49m\u001b[43m(\u001b[49m\u001b[43mtransactions\u001b[49m\u001b[43m,\u001b[49m\u001b[43m \u001b[49m\u001b[38;5;124;43m'\u001b[39;49m\u001b[38;5;124;43mnetwork_analysis.html\u001b[39;49m\u001b[38;5;124;43m'\u001b[39;49m\u001b[43m)\u001b[49m\n\u001b[1;32m      4\u001b[0m \u001b[38;5;66;03m# Basic network statistics\u001b[39;00m\n\u001b[1;32m      5\u001b[0m \u001b[38;5;28mprint\u001b[39m(\u001b[38;5;124mf\u001b[39m\u001b[38;5;124m\"\u001b[39m\u001b[38;5;124mNumber of nodes: \u001b[39m\u001b[38;5;132;01m{\u001b[39;00mG\u001b[38;5;241m.\u001b[39mnumber_of_nodes()\u001b[38;5;132;01m}\u001b[39;00m\u001b[38;5;124m\"\u001b[39m)\n",
      "File \u001b[0;32m~/Documents/Self_Projects/DeepAML/notebooks/../src/visualizations.py:60\u001b[0m, in \u001b[0;36mTransactionVisualizer.create_transaction_network\u001b[0;34m(self, transactions, output_path)\u001b[0m\n\u001b[1;32m     58\u001b[0m \u001b[38;5;250m\u001b[39m\u001b[38;5;124;03m\"\"\"Create an interactive network visualization of transactions\"\"\"\u001b[39;00m\n\u001b[1;32m     59\u001b[0m \u001b[38;5;66;03m# Ensure parent directory exists\u001b[39;00m\n\u001b[0;32m---> 60\u001b[0m \u001b[43mos\u001b[49m\u001b[38;5;241;43m.\u001b[39;49m\u001b[43mmakedirs\u001b[49m\u001b[43m(\u001b[49m\u001b[43mos\u001b[49m\u001b[38;5;241;43m.\u001b[39;49m\u001b[43mpath\u001b[49m\u001b[38;5;241;43m.\u001b[39;49m\u001b[43mdirname\u001b[49m\u001b[43m(\u001b[49m\u001b[43moutput_path\u001b[49m\u001b[43m)\u001b[49m\u001b[43m,\u001b[49m\u001b[43m \u001b[49m\u001b[43mexist_ok\u001b[49m\u001b[38;5;241;43m=\u001b[39;49m\u001b[38;5;28;43;01mTrue\u001b[39;49;00m\u001b[43m)\u001b[49m\n\u001b[1;32m     62\u001b[0m \u001b[38;5;66;03m# Create network\u001b[39;00m\n\u001b[1;32m     63\u001b[0m net \u001b[38;5;241m=\u001b[39m Network(height\u001b[38;5;241m=\u001b[39m\u001b[38;5;124m'\u001b[39m\u001b[38;5;124m750px\u001b[39m\u001b[38;5;124m'\u001b[39m, width\u001b[38;5;241m=\u001b[39m\u001b[38;5;124m'\u001b[39m\u001b[38;5;124m100\u001b[39m\u001b[38;5;124m%\u001b[39m\u001b[38;5;124m'\u001b[39m, bgcolor\u001b[38;5;241m=\u001b[39m\u001b[38;5;28mself\u001b[39m\u001b[38;5;241m.\u001b[39mcolor_scheme[\u001b[38;5;124m'\u001b[39m\u001b[38;5;124mbackground\u001b[39m\u001b[38;5;124m'\u001b[39m],\n\u001b[1;32m     64\u001b[0m              font_color\u001b[38;5;241m=\u001b[39m\u001b[38;5;28mself\u001b[39m\u001b[38;5;241m.\u001b[39mcolor_scheme[\u001b[38;5;124m'\u001b[39m\u001b[38;5;124mtext\u001b[39m\u001b[38;5;124m'\u001b[39m])\n",
      "File \u001b[0;32m/Library/Developer/CommandLineTools/Library/Frameworks/Python3.framework/Versions/3.9/lib/python3.9/os.py:225\u001b[0m, in \u001b[0;36mmakedirs\u001b[0;34m(name, mode, exist_ok)\u001b[0m\n\u001b[1;32m    223\u001b[0m         \u001b[38;5;28;01mreturn\u001b[39;00m\n\u001b[1;32m    224\u001b[0m \u001b[38;5;28;01mtry\u001b[39;00m:\n\u001b[0;32m--> 225\u001b[0m     \u001b[43mmkdir\u001b[49m\u001b[43m(\u001b[49m\u001b[43mname\u001b[49m\u001b[43m,\u001b[49m\u001b[43m \u001b[49m\u001b[43mmode\u001b[49m\u001b[43m)\u001b[49m\n\u001b[1;32m    226\u001b[0m \u001b[38;5;28;01mexcept\u001b[39;00m \u001b[38;5;167;01mOSError\u001b[39;00m:\n\u001b[1;32m    227\u001b[0m     \u001b[38;5;66;03m# Cannot rely on checking for EEXIST, since the operating system\u001b[39;00m\n\u001b[1;32m    228\u001b[0m     \u001b[38;5;66;03m# could give priority to other errors like EACCES or EROFS\u001b[39;00m\n\u001b[1;32m    229\u001b[0m     \u001b[38;5;28;01mif\u001b[39;00m \u001b[38;5;129;01mnot\u001b[39;00m exist_ok \u001b[38;5;129;01mor\u001b[39;00m \u001b[38;5;129;01mnot\u001b[39;00m path\u001b[38;5;241m.\u001b[39misdir(name):\n",
      "\u001b[0;31mFileNotFoundError\u001b[0m: [Errno 2] No such file or directory: ''"
     ]
    }
   ],
   "source": [
    "# Create and display network graph\n",
    "G = visualizer.create_transaction_network(transactions, 'network_analysis.html')\n",
    "\n",
    "# Basic network statistics\n",
    "print(f\"Number of nodes: {G.number_of_nodes()}\")\n",
    "print(f\"Number of edges: {G.number_of_edges()}\")"
   ]
  },
  {
   "cell_type": "markdown",
   "id": "725f209d",
   "metadata": {},
   "source": [
    "## 5. Risk Analysis\n",
    "\n",
    "Let's analyze the risk distribution across transactions:"
   ]
  },
  {
   "cell_type": "code",
   "execution_count": 8,
   "id": "95882fa9",
   "metadata": {},
   "outputs": [
    {
     "name": "stderr",
     "output_type": "stream",
     "text": [
      "100%|██████████| 10724/10724 [00:49<00:00, 218.31it/s]\n"
     ]
    },
    {
     "data": {
      "application/vnd.plotly.v1+json": {
       "config": {
        "plotlyServerURL": "https://plot.ly"
       },
       "data": [
        {
         "bingroup": "x",
         "hovertemplate": "variable=0<br>value=%{x}<br>count=%{y}<extra></extra>",
         "legendgroup": "0",
         "marker": {
          "color": "#636efa",
          "pattern": {
           "shape": ""
          }
         },
         "name": "0",
         "orientation": "v",
         "showlegend": true,
         "type": "histogram",
         "x": {
          "bdata": "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",
          "dtype": "f8"
         },
         "xaxis": "x",
         "yaxis": "y"
        }
       ],
       "layout": {
        "barmode": "relative",
        "legend": {
         "title": {
          "text": "variable"
         },
         "tracegroupgap": 0
        },
        "template": {
         "data": {
          "bar": [
           {
            "error_x": {
             "color": "#2a3f5f"
            },
            "error_y": {
             "color": "#2a3f5f"
            },
            "marker": {
             "line": {
              "color": "#E5ECF6",
              "width": 0.5
             },
             "pattern": {
              "fillmode": "overlay",
              "size": 10,
              "solidity": 0.2
             }
            },
            "type": "bar"
           }
          ],
          "barpolar": [
           {
            "marker": {
             "line": {
              "color": "#E5ECF6",
              "width": 0.5
             },
             "pattern": {
              "fillmode": "overlay",
              "size": 10,
              "solidity": 0.2
             }
            },
            "type": "barpolar"
           }
          ],
          "carpet": [
           {
            "aaxis": {
             "endlinecolor": "#2a3f5f",
             "gridcolor": "white",
             "linecolor": "white",
             "minorgridcolor": "white",
             "startlinecolor": "#2a3f5f"
            },
            "baxis": {
             "endlinecolor": "#2a3f5f",
             "gridcolor": "white",
             "linecolor": "white",
             "minorgridcolor": "white",
             "startlinecolor": "#2a3f5f"
            },
            "type": "carpet"
           }
          ],
          "choropleth": [
           {
            "colorbar": {
             "outlinewidth": 0,
             "ticks": ""
            },
            "type": "choropleth"
           }
          ],
          "contour": [
           {
            "colorbar": {
             "outlinewidth": 0,
             "ticks": ""
            },
            "colorscale": [
             [
              0,
              "#0d0887"
             ],
             [
              0.1111111111111111,
              "#46039f"
             ],
             [
              0.2222222222222222,
              "#7201a8"
             ],
             [
              0.3333333333333333,
              "#9c179e"
             ],
             [
              0.4444444444444444,
              "#bd3786"
             ],
             [
              0.5555555555555556,
              "#d8576b"
             ],
             [
              0.6666666666666666,
              "#ed7953"
             ],
             [
              0.7777777777777778,
              "#fb9f3a"
             ],
             [
              0.8888888888888888,
              "#fdca26"
             ],
             [
              1,
              "#f0f921"
             ]
            ],
            "type": "contour"
           }
          ],
          "contourcarpet": [
           {
            "colorbar": {
             "outlinewidth": 0,
             "ticks": ""
            },
            "type": "contourcarpet"
           }
          ],
          "heatmap": [
           {
            "colorbar": {
             "outlinewidth": 0,
             "ticks": ""
            },
            "colorscale": [
             [
              0,
              "#0d0887"
             ],
             [
              0.1111111111111111,
              "#46039f"
             ],
             [
              0.2222222222222222,
              "#7201a8"
             ],
             [
              0.3333333333333333,
              "#9c179e"
             ],
             [
              0.4444444444444444,
              "#bd3786"
             ],
             [
              0.5555555555555556,
              "#d8576b"
             ],
             [
              0.6666666666666666,
              "#ed7953"
             ],
             [
              0.7777777777777778,
              "#fb9f3a"
             ],
             [
              0.8888888888888888,
              "#fdca26"
             ],
             [
              1,
              "#f0f921"
             ]
            ],
            "type": "heatmap"
           }
          ],
          "histogram": [
           {
            "marker": {
             "pattern": {
              "fillmode": "overlay",
              "size": 10,
              "solidity": 0.2
             }
            },
            "type": "histogram"
           }
          ],
          "histogram2d": [
           {
            "colorbar": {
             "outlinewidth": 0,
             "ticks": ""
            },
            "colorscale": [
             [
              0,
              "#0d0887"
             ],
             [
              0.1111111111111111,
              "#46039f"
             ],
             [
              0.2222222222222222,
              "#7201a8"
             ],
             [
              0.3333333333333333,
              "#9c179e"
             ],
             [
              0.4444444444444444,
              "#bd3786"
             ],
             [
              0.5555555555555556,
              "#d8576b"
             ],
             [
              0.6666666666666666,
              "#ed7953"
             ],
             [
              0.7777777777777778,
              "#fb9f3a"
             ],
             [
              0.8888888888888888,
              "#fdca26"
             ],
             [
              1,
              "#f0f921"
             ]
            ],
            "type": "histogram2d"
           }
          ],
          "histogram2dcontour": [
           {
            "colorbar": {
             "outlinewidth": 0,
             "ticks": ""
            },
            "colorscale": [
             [
              0,
              "#0d0887"
             ],
             [
              0.1111111111111111,
              "#46039f"
             ],
             [
              0.2222222222222222,
              "#7201a8"
             ],
             [
              0.3333333333333333,
              "#9c179e"
             ],
             [
              0.4444444444444444,
              "#bd3786"
             ],
             [
              0.5555555555555556,
              "#d8576b"
             ],
             [
              0.6666666666666666,
              "#ed7953"
             ],
             [
              0.7777777777777778,
              "#fb9f3a"
             ],
             [
              0.8888888888888888,
              "#fdca26"
             ],
             [
              1,
              "#f0f921"
             ]
            ],
            "type": "histogram2dcontour"
           }
          ],
          "mesh3d": [
           {
            "colorbar": {
             "outlinewidth": 0,
             "ticks": ""
            },
            "type": "mesh3d"
           }
          ],
          "parcoords": [
           {
            "line": {
             "colorbar": {
              "outlinewidth": 0,
              "ticks": ""
             }
            },
            "type": "parcoords"
           }
          ],
          "pie": [
           {
            "automargin": true,
            "type": "pie"
           }
          ],
          "scatter": [
           {
            "fillpattern": {
             "fillmode": "overlay",
             "size": 10,
             "solidity": 0.2
            },
            "type": "scatter"
           }
          ],
          "scatter3d": [
           {
            "line": {
             "colorbar": {
              "outlinewidth": 0,
              "ticks": ""
             }
            },
            "marker": {
             "colorbar": {
              "outlinewidth": 0,
              "ticks": ""
             }
            },
            "type": "scatter3d"
           }
          ],
          "scattercarpet": [
           {
            "marker": {
             "colorbar": {
              "outlinewidth": 0,
              "ticks": ""
             }
            },
            "type": "scattercarpet"
           }
          ],
          "scattergeo": [
           {
            "marker": {
             "colorbar": {
              "outlinewidth": 0,
              "ticks": ""
             }
            },
            "type": "scattergeo"
           }
          ],
          "scattergl": [
           {
            "marker": {
             "colorbar": {
              "outlinewidth": 0,
              "ticks": ""
             }
            },
            "type": "scattergl"
           }
          ],
          "scattermap": [
           {
            "marker": {
             "colorbar": {
              "outlinewidth": 0,
              "ticks": ""
             }
            },
            "type": "scattermap"
           }
          ],
          "scattermapbox": [
           {
            "marker": {
             "colorbar": {
              "outlinewidth": 0,
              "ticks": ""
             }
            },
            "type": "scattermapbox"
           }
          ],
          "scatterpolar": [
           {
            "marker": {
             "colorbar": {
              "outlinewidth": 0,
              "ticks": ""
             }
            },
            "type": "scatterpolar"
           }
          ],
          "scatterpolargl": [
           {
            "marker": {
             "colorbar": {
              "outlinewidth": 0,
              "ticks": ""
             }
            },
            "type": "scatterpolargl"
           }
          ],
          "scatterternary": [
           {
            "marker": {
             "colorbar": {
              "outlinewidth": 0,
              "ticks": ""
             }
            },
            "type": "scatterternary"
           }
          ],
          "surface": [
           {
            "colorbar": {
             "outlinewidth": 0,
             "ticks": ""
            },
            "colorscale": [
             [
              0,
              "#0d0887"
             ],
             [
              0.1111111111111111,
              "#46039f"
             ],
             [
              0.2222222222222222,
              "#7201a8"
             ],
             [
              0.3333333333333333,
              "#9c179e"
             ],
             [
              0.4444444444444444,
              "#bd3786"
             ],
             [
              0.5555555555555556,
              "#d8576b"
             ],
             [
              0.6666666666666666,
              "#ed7953"
             ],
             [
              0.7777777777777778,
              "#fb9f3a"
             ],
             [
              0.8888888888888888,
              "#fdca26"
             ],
             [
              1,
              "#f0f921"
             ]
            ],
            "type": "surface"
           }
          ],
          "table": [
           {
            "cells": {
             "fill": {
              "color": "#EBF0F8"
             },
             "line": {
              "color": "white"
             }
            },
            "header": {
             "fill": {
              "color": "#C8D4E3"
             },
             "line": {
              "color": "white"
             }
            },
            "type": "table"
           }
          ]
         },
         "layout": {
          "annotationdefaults": {
           "arrowcolor": "#2a3f5f",
           "arrowhead": 0,
           "arrowwidth": 1
          },
          "autotypenumbers": "strict",
          "coloraxis": {
           "colorbar": {
            "outlinewidth": 0,
            "ticks": ""
           }
          },
          "colorscale": {
           "diverging": [
            [
             0,
             "#8e0152"
            ],
            [
             0.1,
             "#c51b7d"
            ],
            [
             0.2,
             "#de77ae"
            ],
            [
             0.3,
             "#f1b6da"
            ],
            [
             0.4,
             "#fde0ef"
            ],
            [
             0.5,
             "#f7f7f7"
            ],
            [
             0.6,
             "#e6f5d0"
            ],
            [
             0.7,
             "#b8e186"
            ],
            [
             0.8,
             "#7fbc41"
            ],
            [
             0.9,
             "#4d9221"
            ],
            [
             1,
             "#276419"
            ]
           ],
           "sequential": [
            [
             0,
             "#0d0887"
            ],
            [
             0.1111111111111111,
             "#46039f"
            ],
            [
             0.2222222222222222,
             "#7201a8"
            ],
            [
             0.3333333333333333,
             "#9c179e"
            ],
            [
             0.4444444444444444,
             "#bd3786"
            ],
            [
             0.5555555555555556,
             "#d8576b"
            ],
            [
             0.6666666666666666,
             "#ed7953"
            ],
            [
             0.7777777777777778,
             "#fb9f3a"
            ],
            [
             0.8888888888888888,
             "#fdca26"
            ],
            [
             1,
             "#f0f921"
            ]
           ],
           "sequentialminus": [
            [
             0,
             "#0d0887"
            ],
            [
             0.1111111111111111,
             "#46039f"
            ],
            [
             0.2222222222222222,
             "#7201a8"
            ],
            [
             0.3333333333333333,
             "#9c179e"
            ],
            [
             0.4444444444444444,
             "#bd3786"
            ],
            [
             0.5555555555555556,
             "#d8576b"
            ],
            [
             0.6666666666666666,
             "#ed7953"
            ],
            [
             0.7777777777777778,
             "#fb9f3a"
            ],
            [
             0.8888888888888888,
             "#fdca26"
            ],
            [
             1,
             "#f0f921"
            ]
           ]
          },
          "colorway": [
           "#636efa",
           "#EF553B",
           "#00cc96",
           "#ab63fa",
           "#FFA15A",
           "#19d3f3",
           "#FF6692",
           "#B6E880",
           "#FF97FF",
           "#FECB52"
          ],
          "font": {
           "color": "#2a3f5f"
          },
          "geo": {
           "bgcolor": "white",
           "lakecolor": "white",
           "landcolor": "#E5ECF6",
           "showlakes": true,
           "showland": true,
           "subunitcolor": "white"
          },
          "hoverlabel": {
           "align": "left"
          },
          "hovermode": "closest",
          "mapbox": {
           "style": "light"
          },
          "paper_bgcolor": "white",
          "plot_bgcolor": "#E5ECF6",
          "polar": {
           "angularaxis": {
            "gridcolor": "white",
            "linecolor": "white",
            "ticks": ""
           },
           "bgcolor": "#E5ECF6",
           "radialaxis": {
            "gridcolor": "white",
            "linecolor": "white",
            "ticks": ""
           }
          },
          "scene": {
           "xaxis": {
            "backgroundcolor": "#E5ECF6",
            "gridcolor": "white",
            "gridwidth": 2,
            "linecolor": "white",
            "showbackground": true,
            "ticks": "",
            "zerolinecolor": "white"
           },
           "yaxis": {
            "backgroundcolor": "#E5ECF6",
            "gridcolor": "white",
            "gridwidth": 2,
            "linecolor": "white",
            "showbackground": true,
            "ticks": "",
            "zerolinecolor": "white"
           },
           "zaxis": {
            "backgroundcolor": "#E5ECF6",
            "gridcolor": "white",
            "gridwidth": 2,
            "linecolor": "white",
            "showbackground": true,
            "ticks": "",
            "zerolinecolor": "white"
           }
          },
          "shapedefaults": {
           "line": {
            "color": "#2a3f5f"
           }
          },
          "ternary": {
           "aaxis": {
            "gridcolor": "white",
            "linecolor": "white",
            "ticks": ""
           },
           "baxis": {
            "gridcolor": "white",
            "linecolor": "white",
            "ticks": ""
           },
           "bgcolor": "#E5ECF6",
           "caxis": {
            "gridcolor": "white",
            "linecolor": "white",
            "ticks": ""
           }
          },
          "title": {
           "x": 0.05
          },
          "xaxis": {
           "automargin": true,
           "gridcolor": "white",
           "linecolor": "white",
           "ticks": "",
           "title": {
            "standoff": 15
           },
           "zerolinecolor": "white",
           "zerolinewidth": 2
          },
          "yaxis": {
           "automargin": true,
           "gridcolor": "white",
           "linecolor": "white",
           "ticks": "",
           "title": {
            "standoff": 15
           },
           "zerolinecolor": "white",
           "zerolinewidth": 2
          }
         }
        },
        "title": {
         "text": "Risk Score Distribution"
        },
        "xaxis": {
         "anchor": "y",
         "domain": [
          0,
          1
         ],
         "title": {
          "text": "value"
         }
        },
        "yaxis": {
         "anchor": "x",
         "domain": [
          0,
          1
         ],
         "title": {
          "text": "count"
         }
        }
       }
      }
     },
     "metadata": {},
     "output_type": "display_data"
    }
   ],
   "source": [
    "from tqdm import tqdm\n",
    "# Extract features and calculate risk scores\n",
    "feature_extractor = FeatureExtractor()\n",
    "risk_scorer = RiskScorer()\n",
    "\n",
    "risk_scores = []\n",
    "for tx in tqdm(transactions):\n",
    "    features = feature_extractor.extract_features(tx, transactions)\n",
    "    risk_score = risk_scorer.calculate_risk_score(features)\n",
    "    risk_scores.append(risk_score)\n",
    "\n",
    "# Plot risk score distribution\n",
    "fig = px.histogram(risk_scores, title='Risk Score Distribution')\n",
    "fig.show()"
   ]
  },
  {
   "cell_type": "markdown",
   "id": "24f7d615",
   "metadata": {},
   "source": [
    "## 6. Country Risk Analysis\n",
    "\n",
    "Analyze transaction patterns by country:"
   ]
  },
  {
   "cell_type": "code",
   "execution_count": 9,
   "id": "8136fcd4",
   "metadata": {},
   "outputs": [
    {
     "data": {
      "application/vnd.plotly.v1+json": {
       "config": {
        "plotlyServerURL": "https://plot.ly"
       },
       "data": [
        {
         "hovertemplate": "<b>%{hovertext}</b><br><br>sum=%{marker.size}<br>count=%{y}<extra></extra>",
         "hovertext": [
          "AE",
          "AI",
          "AU",
          "BS",
          "BZ",
          "CA",
          "CH",
          "CY",
          "DE",
          "FR",
          "GB",
          "HK",
          "JP",
          "LU",
          "MO",
          "MT",
          "NL",
          "PA",
          "SG",
          "US",
          "VG"
         ],
         "legendgroup": "",
         "marker": {
          "color": "#636efa",
          "size": {
           "bdata": "ZmZmZjbmFEHhehRuYuIxQTMzM5OjlFpBj8L1KE2lL0G5HoXreyIrQaRwPSrdfVRBhetRuHVPMEG4HoWr7TlAQbgeheudblZBSOF69Ek2VUFSuB7Vd0ZVQc3MzEzRDDhBKVyPIp5lV0GPwvUouOkfQfYoXI9RzTFBXI/C9VsZGkGF61Eomw5XQZqZmZkJiDFBXI/CddTlK0EK16PwMhtVQVK4HgXN6CJB",
           "dtype": "f8"
          },
          "sizemode": "area",
          "sizeref": 17419.87575,
          "symbol": "circle"
         },
         "mode": "markers",
         "name": "",
         "orientation": "v",
         "showlegend": false,
         "type": "scatter",
         "x": {
          "bdata": "ZmZmZjbmFEHhehRuYuIxQTMzM5OjlFpBj8L1KE2lL0G5HoXreyIrQaRwPSrdfVRBhetRuHVPMEG4HoWr7TlAQbgeheudblZBSOF69Ek2VUFSuB7Vd0ZVQc3MzEzRDDhBKVyPIp5lV0GPwvUouOkfQfYoXI9RzTFBXI/C9VsZGkGF61Eomw5XQZqZmZkJiDFBXI/CddTlK0EK16PwMhtVQVK4HgXN6CJB",
          "dtype": "f8"
         },
         "xaxis": "x",
         "y": {
          "bdata": "TgCeAAYFyABnAP0DlQBPABMEYgSXBM8AcQRaANMATACIBGcArwA4BEcA",
          "dtype": "i2"
         },
         "yaxis": "y"
        }
       ],
       "layout": {
        "legend": {
         "itemsizing": "constant",
         "tracegroupgap": 0
        },
        "template": {
         "data": {
          "bar": [
           {
            "error_x": {
             "color": "#2a3f5f"
            },
            "error_y": {
             "color": "#2a3f5f"
            },
            "marker": {
             "line": {
              "color": "#E5ECF6",
              "width": 0.5
             },
             "pattern": {
              "fillmode": "overlay",
              "size": 10,
              "solidity": 0.2
             }
            },
            "type": "bar"
           }
          ],
          "barpolar": [
           {
            "marker": {
             "line": {
              "color": "#E5ECF6",
              "width": 0.5
             },
             "pattern": {
              "fillmode": "overlay",
              "size": 10,
              "solidity": 0.2
             }
            },
            "type": "barpolar"
           }
          ],
          "carpet": [
           {
            "aaxis": {
             "endlinecolor": "#2a3f5f",
             "gridcolor": "white",
             "linecolor": "white",
             "minorgridcolor": "white",
             "startlinecolor": "#2a3f5f"
            },
            "baxis": {
             "endlinecolor": "#2a3f5f",
             "gridcolor": "white",
             "linecolor": "white",
             "minorgridcolor": "white",
             "startlinecolor": "#2a3f5f"
            },
            "type": "carpet"
           }
          ],
          "choropleth": [
           {
            "colorbar": {
             "outlinewidth": 0,
             "ticks": ""
            },
            "type": "choropleth"
           }
          ],
          "contour": [
           {
            "colorbar": {
             "outlinewidth": 0,
             "ticks": ""
            },
            "colorscale": [
             [
              0,
              "#0d0887"
             ],
             [
              0.1111111111111111,
              "#46039f"
             ],
             [
              0.2222222222222222,
              "#7201a8"
             ],
             [
              0.3333333333333333,
              "#9c179e"
             ],
             [
              0.4444444444444444,
              "#bd3786"
             ],
             [
              0.5555555555555556,
              "#d8576b"
             ],
             [
              0.6666666666666666,
              "#ed7953"
             ],
             [
              0.7777777777777778,
              "#fb9f3a"
             ],
             [
              0.8888888888888888,
              "#fdca26"
             ],
             [
              1,
              "#f0f921"
             ]
            ],
            "type": "contour"
           }
          ],
          "contourcarpet": [
           {
            "colorbar": {
             "outlinewidth": 0,
             "ticks": ""
            },
            "type": "contourcarpet"
           }
          ],
          "heatmap": [
           {
            "colorbar": {
             "outlinewidth": 0,
             "ticks": ""
            },
            "colorscale": [
             [
              0,
              "#0d0887"
             ],
             [
              0.1111111111111111,
              "#46039f"
             ],
             [
              0.2222222222222222,
              "#7201a8"
             ],
             [
              0.3333333333333333,
              "#9c179e"
             ],
             [
              0.4444444444444444,
              "#bd3786"
             ],
             [
              0.5555555555555556,
              "#d8576b"
             ],
             [
              0.6666666666666666,
              "#ed7953"
             ],
             [
              0.7777777777777778,
              "#fb9f3a"
             ],
             [
              0.8888888888888888,
              "#fdca26"
             ],
             [
              1,
              "#f0f921"
             ]
            ],
            "type": "heatmap"
           }
          ],
          "histogram": [
           {
            "marker": {
             "pattern": {
              "fillmode": "overlay",
              "size": 10,
              "solidity": 0.2
             }
            },
            "type": "histogram"
           }
          ],
          "histogram2d": [
           {
            "colorbar": {
             "outlinewidth": 0,
             "ticks": ""
            },
            "colorscale": [
             [
              0,
              "#0d0887"
             ],
             [
              0.1111111111111111,
              "#46039f"
             ],
             [
              0.2222222222222222,
              "#7201a8"
             ],
             [
              0.3333333333333333,
              "#9c179e"
             ],
             [
              0.4444444444444444,
              "#bd3786"
             ],
             [
              0.5555555555555556,
              "#d8576b"
             ],
             [
              0.6666666666666666,
              "#ed7953"
             ],
             [
              0.7777777777777778,
              "#fb9f3a"
             ],
             [
              0.8888888888888888,
              "#fdca26"
             ],
             [
              1,
              "#f0f921"
             ]
            ],
            "type": "histogram2d"
           }
          ],
          "histogram2dcontour": [
           {
            "colorbar": {
             "outlinewidth": 0,
             "ticks": ""
            },
            "colorscale": [
             [
              0,
              "#0d0887"
             ],
             [
              0.1111111111111111,
              "#46039f"
             ],
             [
              0.2222222222222222,
              "#7201a8"
             ],
             [
              0.3333333333333333,
              "#9c179e"
             ],
             [
              0.4444444444444444,
              "#bd3786"
             ],
             [
              0.5555555555555556,
              "#d8576b"
             ],
             [
              0.6666666666666666,
              "#ed7953"
             ],
             [
              0.7777777777777778,
              "#fb9f3a"
             ],
             [
              0.8888888888888888,
              "#fdca26"
             ],
             [
              1,
              "#f0f921"
             ]
            ],
            "type": "histogram2dcontour"
           }
          ],
          "mesh3d": [
           {
            "colorbar": {
             "outlinewidth": 0,
             "ticks": ""
            },
            "type": "mesh3d"
           }
          ],
          "parcoords": [
           {
            "line": {
             "colorbar": {
              "outlinewidth": 0,
              "ticks": ""
             }
            },
            "type": "parcoords"
           }
          ],
          "pie": [
           {
            "automargin": true,
            "type": "pie"
           }
          ],
          "scatter": [
           {
            "fillpattern": {
             "fillmode": "overlay",
             "size": 10,
             "solidity": 0.2
            },
            "type": "scatter"
           }
          ],
          "scatter3d": [
           {
            "line": {
             "colorbar": {
              "outlinewidth": 0,
              "ticks": ""
             }
            },
            "marker": {
             "colorbar": {
              "outlinewidth": 0,
              "ticks": ""
             }
            },
            "type": "scatter3d"
           }
          ],
          "scattercarpet": [
           {
            "marker": {
             "colorbar": {
              "outlinewidth": 0,
              "ticks": ""
             }
            },
            "type": "scattercarpet"
           }
          ],
          "scattergeo": [
           {
            "marker": {
             "colorbar": {
              "outlinewidth": 0,
              "ticks": ""
             }
            },
            "type": "scattergeo"
           }
          ],
          "scattergl": [
           {
            "marker": {
             "colorbar": {
              "outlinewidth": 0,
              "ticks": ""
             }
            },
            "type": "scattergl"
           }
          ],
          "scattermap": [
           {
            "marker": {
             "colorbar": {
              "outlinewidth": 0,
              "ticks": ""
             }
            },
            "type": "scattermap"
           }
          ],
          "scattermapbox": [
           {
            "marker": {
             "colorbar": {
              "outlinewidth": 0,
              "ticks": ""
             }
            },
            "type": "scattermapbox"
           }
          ],
          "scatterpolar": [
           {
            "marker": {
             "colorbar": {
              "outlinewidth": 0,
              "ticks": ""
             }
            },
            "type": "scatterpolar"
           }
          ],
          "scatterpolargl": [
           {
            "marker": {
             "colorbar": {
              "outlinewidth": 0,
              "ticks": ""
             }
            },
            "type": "scatterpolargl"
           }
          ],
          "scatterternary": [
           {
            "marker": {
             "colorbar": {
              "outlinewidth": 0,
              "ticks": ""
             }
            },
            "type": "scatterternary"
           }
          ],
          "surface": [
           {
            "colorbar": {
             "outlinewidth": 0,
             "ticks": ""
            },
            "colorscale": [
             [
              0,
              "#0d0887"
             ],
             [
              0.1111111111111111,
              "#46039f"
             ],
             [
              0.2222222222222222,
              "#7201a8"
             ],
             [
              0.3333333333333333,
              "#9c179e"
             ],
             [
              0.4444444444444444,
              "#bd3786"
             ],
             [
              0.5555555555555556,
              "#d8576b"
             ],
             [
              0.6666666666666666,
              "#ed7953"
             ],
             [
              0.7777777777777778,
              "#fb9f3a"
             ],
             [
              0.8888888888888888,
              "#fdca26"
             ],
             [
              1,
              "#f0f921"
             ]
            ],
            "type": "surface"
           }
          ],
          "table": [
           {
            "cells": {
             "fill": {
              "color": "#EBF0F8"
             },
             "line": {
              "color": "white"
             }
            },
            "header": {
             "fill": {
              "color": "#C8D4E3"
             },
             "line": {
              "color": "white"
             }
            },
            "type": "table"
           }
          ]
         },
         "layout": {
          "annotationdefaults": {
           "arrowcolor": "#2a3f5f",
           "arrowhead": 0,
           "arrowwidth": 1
          },
          "autotypenumbers": "strict",
          "coloraxis": {
           "colorbar": {
            "outlinewidth": 0,
            "ticks": ""
           }
          },
          "colorscale": {
           "diverging": [
            [
             0,
             "#8e0152"
            ],
            [
             0.1,
             "#c51b7d"
            ],
            [
             0.2,
             "#de77ae"
            ],
            [
             0.3,
             "#f1b6da"
            ],
            [
             0.4,
             "#fde0ef"
            ],
            [
             0.5,
             "#f7f7f7"
            ],
            [
             0.6,
             "#e6f5d0"
            ],
            [
             0.7,
             "#b8e186"
            ],
            [
             0.8,
             "#7fbc41"
            ],
            [
             0.9,
             "#4d9221"
            ],
            [
             1,
             "#276419"
            ]
           ],
           "sequential": [
            [
             0,
             "#0d0887"
            ],
            [
             0.1111111111111111,
             "#46039f"
            ],
            [
             0.2222222222222222,
             "#7201a8"
            ],
            [
             0.3333333333333333,
             "#9c179e"
            ],
            [
             0.4444444444444444,
             "#bd3786"
            ],
            [
             0.5555555555555556,
             "#d8576b"
            ],
            [
             0.6666666666666666,
             "#ed7953"
            ],
            [
             0.7777777777777778,
             "#fb9f3a"
            ],
            [
             0.8888888888888888,
             "#fdca26"
            ],
            [
             1,
             "#f0f921"
            ]
           ],
           "sequentialminus": [
            [
             0,
             "#0d0887"
            ],
            [
             0.1111111111111111,
             "#46039f"
            ],
            [
             0.2222222222222222,
             "#7201a8"
            ],
            [
             0.3333333333333333,
             "#9c179e"
            ],
            [
             0.4444444444444444,
             "#bd3786"
            ],
            [
             0.5555555555555556,
             "#d8576b"
            ],
            [
             0.6666666666666666,
             "#ed7953"
            ],
            [
             0.7777777777777778,
             "#fb9f3a"
            ],
            [
             0.8888888888888888,
             "#fdca26"
            ],
            [
             1,
             "#f0f921"
            ]
           ]
          },
          "colorway": [
           "#636efa",
           "#EF553B",
           "#00cc96",
           "#ab63fa",
           "#FFA15A",
           "#19d3f3",
           "#FF6692",
           "#B6E880",
           "#FF97FF",
           "#FECB52"
          ],
          "font": {
           "color": "#2a3f5f"
          },
          "geo": {
           "bgcolor": "white",
           "lakecolor": "white",
           "landcolor": "#E5ECF6",
           "showlakes": true,
           "showland": true,
           "subunitcolor": "white"
          },
          "hoverlabel": {
           "align": "left"
          },
          "hovermode": "closest",
          "mapbox": {
           "style": "light"
          },
          "paper_bgcolor": "white",
          "plot_bgcolor": "#E5ECF6",
          "polar": {
           "angularaxis": {
            "gridcolor": "white",
            "linecolor": "white",
            "ticks": ""
           },
           "bgcolor": "#E5ECF6",
           "radialaxis": {
            "gridcolor": "white",
            "linecolor": "white",
            "ticks": ""
           }
          },
          "scene": {
           "xaxis": {
            "backgroundcolor": "#E5ECF6",
            "gridcolor": "white",
            "gridwidth": 2,
            "linecolor": "white",
            "showbackground": true,
            "ticks": "",
            "zerolinecolor": "white"
           },
           "yaxis": {
            "backgroundcolor": "#E5ECF6",
            "gridcolor": "white",
            "gridwidth": 2,
            "linecolor": "white",
            "showbackground": true,
            "ticks": "",
            "zerolinecolor": "white"
           },
           "zaxis": {
            "backgroundcolor": "#E5ECF6",
            "gridcolor": "white",
            "gridwidth": 2,
            "linecolor": "white",
            "showbackground": true,
            "ticks": "",
            "zerolinecolor": "white"
           }
          },
          "shapedefaults": {
           "line": {
            "color": "#2a3f5f"
           }
          },
          "ternary": {
           "aaxis": {
            "gridcolor": "white",
            "linecolor": "white",
            "ticks": ""
           },
           "baxis": {
            "gridcolor": "white",
            "linecolor": "white",
            "ticks": ""
           },
           "bgcolor": "#E5ECF6",
           "caxis": {
            "gridcolor": "white",
            "linecolor": "white",
            "ticks": ""
           }
          },
          "title": {
           "x": 0.05
          },
          "xaxis": {
           "automargin": true,
           "gridcolor": "white",
           "linecolor": "white",
           "ticks": "",
           "title": {
            "standoff": 15
           },
           "zerolinecolor": "white",
           "zerolinewidth": 2
          },
          "yaxis": {
           "automargin": true,
           "gridcolor": "white",
           "linecolor": "white",
           "ticks": "",
           "title": {
            "standoff": 15
           },
           "zerolinecolor": "white",
           "zerolinewidth": 2
          }
         }
        },
        "title": {
         "text": "Country Transaction Analysis"
        },
        "xaxis": {
         "anchor": "y",
         "domain": [
          0,
          1
         ],
         "title": {
          "text": "sum"
         }
        },
        "yaxis": {
         "anchor": "x",
         "domain": [
          0,
          1
         ],
         "title": {
          "text": "count"
         }
        }
       }
      }
     },
     "metadata": {},
     "output_type": "display_data"
    }
   ],
   "source": [
    "# Group by country and sum transaction amounts\n",
    "country_amounts = df.groupby('sender_country')['amount'].agg(['sum', 'count']).reset_index()\n",
    "\n",
    "# Create bubble chart\n",
    "fig = px.scatter(country_amounts, \n",
    "                x='sum', \n",
    "                y='count',\n",
    "                size='sum',\n",
    "                hover_name='sender_country',\n",
    "                title='Country Transaction Analysis')\n",
    "fig.show()"
   ]
  },
  {
   "cell_type": "code",
   "execution_count": null,
   "id": "846bb073",
   "metadata": {},
   "outputs": [],
   "source": []
  }
 ],
 "metadata": {
  "kernelspec": {
   "display_name": ".deepaml_venv",
   "language": "python",
   "name": "python3"
  },
  "language_info": {
   "codemirror_mode": {
    "name": "ipython",
    "version": 3
   },
   "file_extension": ".py",
   "mimetype": "text/x-python",
   "name": "python",
   "nbconvert_exporter": "python",
   "pygments_lexer": "ipython3",
   "version": "3.9.6"
  }
 },
 "nbformat": 4,
 "nbformat_minor": 5
}
